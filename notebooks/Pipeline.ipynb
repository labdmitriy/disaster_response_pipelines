{
 "cells": [
  {
   "cell_type": "code",
   "execution_count": 1,
   "metadata": {},
   "outputs": [],
   "source": [
    "%load_ext autoreload\n",
    "%autoreload 2"
   ]
  },
  {
   "cell_type": "code",
   "execution_count": 2,
   "metadata": {},
   "outputs": [],
   "source": [
    "from pathlib import Path\n",
    "\n",
    "from sqlalchemy import create_engine\n",
    "import requests\n",
    "from tqdm import tqdm\n",
    "\n",
    "import numpy as np\n",
    "import pandas as pd\n",
    "import matplotlib.pyplot as plt\n",
    "import seaborn as sns\n",
    "%matplotlib inline"
   ]
  },
  {
   "cell_type": "code",
   "execution_count": 3,
   "metadata": {},
   "outputs": [],
   "source": [
    "RANDOM_STATE = 42\n",
    "ORIG_DATA_PATH = Path('../orig_data')\n",
    "DATA_PATH = Path('../data')"
   ]
  },
  {
   "cell_type": "code",
   "execution_count": 4,
   "metadata": {},
   "outputs": [],
   "source": [
    "plt.rcParams['figure.figsize'] = (8, 6)"
   ]
  },
  {
   "cell_type": "markdown",
   "metadata": {},
   "source": [
    "# Data Understanding"
   ]
  },
  {
   "cell_type": "markdown",
   "metadata": {},
   "source": [
    "## Collect initial data"
   ]
  },
  {
   "cell_type": "markdown",
   "metadata": {},
   "source": [
    "### Original data"
   ]
  },
  {
   "cell_type": "code",
   "execution_count": 5,
   "metadata": {},
   "outputs": [],
   "source": [
    "if not ORIG_DATA_PATH.exists():\n",
    "    ORIG_DATA_PATH.mkdir(exist_ok=True)"
   ]
  },
  {
   "cell_type": "code",
   "execution_count": 6,
   "metadata": {},
   "outputs": [
    {
     "name": "stderr",
     "output_type": "stream",
     "text": [
      "3it [00:00, 162.65it/s]\n"
     ]
    }
   ],
   "source": [
    "urls = ['https://datasets.figure-eight.com/figure_eight_datasets/disaster_response_data/disaster_response_messages_training.csv',\n",
    "        'https://datasets.figure-eight.com/figure_eight_datasets/disaster_response_data/disaster_response_messages_test.csv',\n",
    "        'https://datasets.figure-eight.com/figure_eight_datasets/disaster_response_data/disaster_response_messages_validation.csv']\n",
    "\n",
    "file_paths = [ORIG_DATA_PATH/'train_df.csv', \n",
    "              ORIG_DATA_PATH/'test_df.csv',\n",
    "              ORIG_DATA_PATH/'valid_df.csv']\n",
    "\n",
    "def download_file(url, file_path):\n",
    "    if not file_path.exists():\n",
    "        r = requests.get(url)\n",
    "\n",
    "        with open(file_path, 'w') as f:\n",
    "            f.write(r.text[3:])\n",
    "        \n",
    "for url, file_path in tqdm(zip(urls, file_paths)):\n",
    "    download_file(url, file_path)"
   ]
  },
  {
   "cell_type": "code",
   "execution_count": 7,
   "metadata": {},
   "outputs": [
    {
     "name": "stderr",
     "output_type": "stream",
     "text": [
      "100%|██████████| 3/3 [00:00<00:00, 10.44it/s]"
     ]
    },
    {
     "name": "stdout",
     "output_type": "stream",
     "text": [
      "(26248, 41)\n"
     ]
    },
    {
     "name": "stderr",
     "output_type": "stream",
     "text": [
      "\n"
     ]
    },
    {
     "data": {
      "text/html": [
       "<div>\n",
       "<style scoped>\n",
       "    .dataframe tbody tr th:only-of-type {\n",
       "        vertical-align: middle;\n",
       "    }\n",
       "\n",
       "    .dataframe tbody tr th {\n",
       "        vertical-align: top;\n",
       "    }\n",
       "\n",
       "    .dataframe thead th {\n",
       "        text-align: right;\n",
       "    }\n",
       "</style>\n",
       "<table border=\"1\" class=\"dataframe\">\n",
       "  <thead>\n",
       "    <tr style=\"text-align: right;\">\n",
       "      <th></th>\n",
       "      <th>id</th>\n",
       "      <th>split</th>\n",
       "      <th>message</th>\n",
       "      <th>original</th>\n",
       "      <th>genre</th>\n",
       "      <th>related</th>\n",
       "      <th>request</th>\n",
       "      <th>offer</th>\n",
       "      <th>aid_related</th>\n",
       "      <th>medical_help</th>\n",
       "      <th>...</th>\n",
       "      <th>aid_centers</th>\n",
       "      <th>other_infrastructure</th>\n",
       "      <th>weather_related</th>\n",
       "      <th>floods</th>\n",
       "      <th>storm</th>\n",
       "      <th>fire</th>\n",
       "      <th>earthquake</th>\n",
       "      <th>cold</th>\n",
       "      <th>other_weather</th>\n",
       "      <th>direct_report</th>\n",
       "    </tr>\n",
       "  </thead>\n",
       "  <tbody>\n",
       "    <tr>\n",
       "      <th>0</th>\n",
       "      <td>2</td>\n",
       "      <td>train</td>\n",
       "      <td>Weather update - a cold front from Cuba that c...</td>\n",
       "      <td>Un front froid se retrouve sur Cuba ce matin. ...</td>\n",
       "      <td>direct</td>\n",
       "      <td>1</td>\n",
       "      <td>0</td>\n",
       "      <td>0</td>\n",
       "      <td>0</td>\n",
       "      <td>0</td>\n",
       "      <td>...</td>\n",
       "      <td>0</td>\n",
       "      <td>0</td>\n",
       "      <td>0</td>\n",
       "      <td>0</td>\n",
       "      <td>0</td>\n",
       "      <td>0</td>\n",
       "      <td>0</td>\n",
       "      <td>0</td>\n",
       "      <td>0</td>\n",
       "      <td>0</td>\n",
       "    </tr>\n",
       "    <tr>\n",
       "      <th>1</th>\n",
       "      <td>7</td>\n",
       "      <td>train</td>\n",
       "      <td>Is the Hurricane over or is it not over</td>\n",
       "      <td>Cyclone nan fini osinon li pa fini</td>\n",
       "      <td>direct</td>\n",
       "      <td>1</td>\n",
       "      <td>0</td>\n",
       "      <td>0</td>\n",
       "      <td>1</td>\n",
       "      <td>0</td>\n",
       "      <td>...</td>\n",
       "      <td>0</td>\n",
       "      <td>0</td>\n",
       "      <td>1</td>\n",
       "      <td>0</td>\n",
       "      <td>1</td>\n",
       "      <td>0</td>\n",
       "      <td>0</td>\n",
       "      <td>0</td>\n",
       "      <td>0</td>\n",
       "      <td>0</td>\n",
       "    </tr>\n",
       "    <tr>\n",
       "      <th>2</th>\n",
       "      <td>12</td>\n",
       "      <td>train</td>\n",
       "      <td>says: west side of Haiti, rest of the country ...</td>\n",
       "      <td>facade ouest d Haiti et le reste du pays aujou...</td>\n",
       "      <td>direct</td>\n",
       "      <td>1</td>\n",
       "      <td>0</td>\n",
       "      <td>0</td>\n",
       "      <td>0</td>\n",
       "      <td>0</td>\n",
       "      <td>...</td>\n",
       "      <td>0</td>\n",
       "      <td>0</td>\n",
       "      <td>0</td>\n",
       "      <td>0</td>\n",
       "      <td>0</td>\n",
       "      <td>0</td>\n",
       "      <td>0</td>\n",
       "      <td>0</td>\n",
       "      <td>0</td>\n",
       "      <td>0</td>\n",
       "    </tr>\n",
       "    <tr>\n",
       "      <th>3</th>\n",
       "      <td>14</td>\n",
       "      <td>train</td>\n",
       "      <td>Information about the National Palace-</td>\n",
       "      <td>Informtion au nivaux palais nationl</td>\n",
       "      <td>direct</td>\n",
       "      <td>0</td>\n",
       "      <td>0</td>\n",
       "      <td>0</td>\n",
       "      <td>0</td>\n",
       "      <td>0</td>\n",
       "      <td>...</td>\n",
       "      <td>0</td>\n",
       "      <td>0</td>\n",
       "      <td>0</td>\n",
       "      <td>0</td>\n",
       "      <td>0</td>\n",
       "      <td>0</td>\n",
       "      <td>0</td>\n",
       "      <td>0</td>\n",
       "      <td>0</td>\n",
       "      <td>0</td>\n",
       "    </tr>\n",
       "    <tr>\n",
       "      <th>4</th>\n",
       "      <td>15</td>\n",
       "      <td>train</td>\n",
       "      <td>Storm at sacred heart of jesus</td>\n",
       "      <td>Cyclone Coeur sacr de jesus</td>\n",
       "      <td>direct</td>\n",
       "      <td>1</td>\n",
       "      <td>0</td>\n",
       "      <td>0</td>\n",
       "      <td>0</td>\n",
       "      <td>0</td>\n",
       "      <td>...</td>\n",
       "      <td>0</td>\n",
       "      <td>0</td>\n",
       "      <td>1</td>\n",
       "      <td>0</td>\n",
       "      <td>1</td>\n",
       "      <td>0</td>\n",
       "      <td>0</td>\n",
       "      <td>0</td>\n",
       "      <td>0</td>\n",
       "      <td>0</td>\n",
       "    </tr>\n",
       "  </tbody>\n",
       "</table>\n",
       "<p>5 rows × 41 columns</p>\n",
       "</div>"
      ],
      "text/plain": [
       "   id  split                                            message  \\\n",
       "0   2  train  Weather update - a cold front from Cuba that c...   \n",
       "1   7  train            Is the Hurricane over or is it not over   \n",
       "2  12  train  says: west side of Haiti, rest of the country ...   \n",
       "3  14  train             Information about the National Palace-   \n",
       "4  15  train                     Storm at sacred heart of jesus   \n",
       "\n",
       "                                            original   genre  related  \\\n",
       "0  Un front froid se retrouve sur Cuba ce matin. ...  direct        1   \n",
       "1                 Cyclone nan fini osinon li pa fini  direct        1   \n",
       "2  facade ouest d Haiti et le reste du pays aujou...  direct        1   \n",
       "3                Informtion au nivaux palais nationl  direct        0   \n",
       "4                        Cyclone Coeur sacr de jesus  direct        1   \n",
       "\n",
       "   request  offer  aid_related  medical_help  ...  aid_centers  \\\n",
       "0        0      0            0             0  ...            0   \n",
       "1        0      0            1             0  ...            0   \n",
       "2        0      0            0             0  ...            0   \n",
       "3        0      0            0             0  ...            0   \n",
       "4        0      0            0             0  ...            0   \n",
       "\n",
       "   other_infrastructure  weather_related  floods  storm  fire  earthquake  \\\n",
       "0                     0                0       0      0     0           0   \n",
       "1                     0                1       0      1     0           0   \n",
       "2                     0                0       0      0     0           0   \n",
       "3                     0                0       0      0     0           0   \n",
       "4                     0                1       0      1     0           0   \n",
       "\n",
       "   cold  other_weather  direct_report  \n",
       "0     0              0              0  \n",
       "1     0              0              0  \n",
       "2     0              0              0  \n",
       "3     0              0              0  \n",
       "4     0              0              0  \n",
       "\n",
       "[5 rows x 41 columns]"
      ]
     },
     "execution_count": 7,
     "metadata": {},
     "output_type": "execute_result"
    }
   ],
   "source": [
    "dfs = []\n",
    "\n",
    "for file_path in tqdm(file_paths):\n",
    "    dfs.append(pd.read_csv(file_path, low_memory=False))\n",
    "    \n",
    "full_df = pd.concat(dfs, axis=0)\n",
    "full_df = full_df.drop('PII', axis=1)\n",
    "print(full_df.shape)\n",
    "full_df.head()"
   ]
  },
  {
   "cell_type": "markdown",
   "metadata": {},
   "source": [
    "### Project data"
   ]
  },
  {
   "cell_type": "code",
   "execution_count": 8,
   "metadata": {},
   "outputs": [
    {
     "data": {
      "text/html": [
       "<div>\n",
       "<style scoped>\n",
       "    .dataframe tbody tr th:only-of-type {\n",
       "        vertical-align: middle;\n",
       "    }\n",
       "\n",
       "    .dataframe tbody tr th {\n",
       "        vertical-align: top;\n",
       "    }\n",
       "\n",
       "    .dataframe thead th {\n",
       "        text-align: right;\n",
       "    }\n",
       "</style>\n",
       "<table border=\"1\" class=\"dataframe\">\n",
       "  <thead>\n",
       "    <tr style=\"text-align: right;\">\n",
       "      <th></th>\n",
       "      <th>id</th>\n",
       "      <th>message</th>\n",
       "      <th>original</th>\n",
       "      <th>genre</th>\n",
       "    </tr>\n",
       "  </thead>\n",
       "  <tbody>\n",
       "    <tr>\n",
       "      <th>0</th>\n",
       "      <td>2</td>\n",
       "      <td>Weather update - a cold front from Cuba that c...</td>\n",
       "      <td>Un front froid se retrouve sur Cuba ce matin. ...</td>\n",
       "      <td>direct</td>\n",
       "    </tr>\n",
       "    <tr>\n",
       "      <th>1</th>\n",
       "      <td>7</td>\n",
       "      <td>Is the Hurricane over or is it not over</td>\n",
       "      <td>Cyclone nan fini osinon li pa fini</td>\n",
       "      <td>direct</td>\n",
       "    </tr>\n",
       "    <tr>\n",
       "      <th>2</th>\n",
       "      <td>8</td>\n",
       "      <td>Looking for someone but no name</td>\n",
       "      <td>Patnm, di Maryani relem pou li banm nouvel li ...</td>\n",
       "      <td>direct</td>\n",
       "    </tr>\n",
       "    <tr>\n",
       "      <th>3</th>\n",
       "      <td>9</td>\n",
       "      <td>UN reports Leogane 80-90 destroyed. Only Hospi...</td>\n",
       "      <td>UN reports Leogane 80-90 destroyed. Only Hospi...</td>\n",
       "      <td>direct</td>\n",
       "    </tr>\n",
       "    <tr>\n",
       "      <th>4</th>\n",
       "      <td>12</td>\n",
       "      <td>says: west side of Haiti, rest of the country ...</td>\n",
       "      <td>facade ouest d Haiti et le reste du pays aujou...</td>\n",
       "      <td>direct</td>\n",
       "    </tr>\n",
       "  </tbody>\n",
       "</table>\n",
       "</div>"
      ],
      "text/plain": [
       "   id                                            message  \\\n",
       "0   2  Weather update - a cold front from Cuba that c...   \n",
       "1   7            Is the Hurricane over or is it not over   \n",
       "2   8                    Looking for someone but no name   \n",
       "3   9  UN reports Leogane 80-90 destroyed. Only Hospi...   \n",
       "4  12  says: west side of Haiti, rest of the country ...   \n",
       "\n",
       "                                            original   genre  \n",
       "0  Un front froid se retrouve sur Cuba ce matin. ...  direct  \n",
       "1                 Cyclone nan fini osinon li pa fini  direct  \n",
       "2  Patnm, di Maryani relem pou li banm nouvel li ...  direct  \n",
       "3  UN reports Leogane 80-90 destroyed. Only Hospi...  direct  \n",
       "4  facade ouest d Haiti et le reste du pays aujou...  direct  "
      ]
     },
     "execution_count": 8,
     "metadata": {},
     "output_type": "execute_result"
    }
   ],
   "source": [
    "messages_df = pd.read_csv(DATA_PATH/'disaster_messages.csv')\n",
    "messages_df.head()"
   ]
  },
  {
   "cell_type": "code",
   "execution_count": 9,
   "metadata": {},
   "outputs": [
    {
     "data": {
      "text/html": [
       "<div>\n",
       "<style scoped>\n",
       "    .dataframe tbody tr th:only-of-type {\n",
       "        vertical-align: middle;\n",
       "    }\n",
       "\n",
       "    .dataframe tbody tr th {\n",
       "        vertical-align: top;\n",
       "    }\n",
       "\n",
       "    .dataframe thead th {\n",
       "        text-align: right;\n",
       "    }\n",
       "</style>\n",
       "<table border=\"1\" class=\"dataframe\">\n",
       "  <thead>\n",
       "    <tr style=\"text-align: right;\">\n",
       "      <th></th>\n",
       "      <th>id</th>\n",
       "      <th>categories</th>\n",
       "    </tr>\n",
       "  </thead>\n",
       "  <tbody>\n",
       "    <tr>\n",
       "      <th>0</th>\n",
       "      <td>2</td>\n",
       "      <td>related-1;request-0;offer-0;aid_related-0;medi...</td>\n",
       "    </tr>\n",
       "    <tr>\n",
       "      <th>1</th>\n",
       "      <td>7</td>\n",
       "      <td>related-1;request-0;offer-0;aid_related-1;medi...</td>\n",
       "    </tr>\n",
       "    <tr>\n",
       "      <th>2</th>\n",
       "      <td>8</td>\n",
       "      <td>related-1;request-0;offer-0;aid_related-0;medi...</td>\n",
       "    </tr>\n",
       "    <tr>\n",
       "      <th>3</th>\n",
       "      <td>9</td>\n",
       "      <td>related-1;request-1;offer-0;aid_related-1;medi...</td>\n",
       "    </tr>\n",
       "    <tr>\n",
       "      <th>4</th>\n",
       "      <td>12</td>\n",
       "      <td>related-1;request-0;offer-0;aid_related-0;medi...</td>\n",
       "    </tr>\n",
       "  </tbody>\n",
       "</table>\n",
       "</div>"
      ],
      "text/plain": [
       "   id                                         categories\n",
       "0   2  related-1;request-0;offer-0;aid_related-0;medi...\n",
       "1   7  related-1;request-0;offer-0;aid_related-1;medi...\n",
       "2   8  related-1;request-0;offer-0;aid_related-0;medi...\n",
       "3   9  related-1;request-1;offer-0;aid_related-1;medi...\n",
       "4  12  related-1;request-0;offer-0;aid_related-0;medi..."
      ]
     },
     "execution_count": 9,
     "metadata": {},
     "output_type": "execute_result"
    }
   ],
   "source": [
    "categories_df = pd.read_csv(DATA_PATH/'disaster_categories.csv')\n",
    "categories_df.head()"
   ]
  },
  {
   "cell_type": "markdown",
   "metadata": {},
   "source": [
    "## Describe data"
   ]
  },
  {
   "cell_type": "markdown",
   "metadata": {},
   "source": [
    "### Original data"
   ]
  },
  {
   "cell_type": "code",
   "execution_count": 10,
   "metadata": {},
   "outputs": [
    {
     "name": "stdout",
     "output_type": "stream",
     "text": [
      "<class 'pandas.core.frame.DataFrame'>\n",
      "Int64Index: 26248 entries, 0 to 2572\n",
      "Data columns (total 41 columns):\n",
      "id                        26248 non-null int64\n",
      "split                     26248 non-null object\n",
      "message                   26248 non-null object\n",
      "original                  10184 non-null object\n",
      "genre                     26248 non-null object\n",
      "related                   26248 non-null int64\n",
      "request                   26248 non-null int64\n",
      "offer                     26248 non-null int64\n",
      "aid_related               26248 non-null int64\n",
      "medical_help              26248 non-null int64\n",
      "medical_products          26248 non-null int64\n",
      "search_and_rescue         26248 non-null int64\n",
      "security                  26248 non-null int64\n",
      "military                  26248 non-null int64\n",
      "child_alone               26248 non-null int64\n",
      "water                     26248 non-null int64\n",
      "food                      26248 non-null int64\n",
      "shelter                   26248 non-null int64\n",
      "clothing                  26248 non-null int64\n",
      "money                     26248 non-null int64\n",
      "missing_people            26248 non-null int64\n",
      "refugees                  26248 non-null int64\n",
      "death                     26248 non-null int64\n",
      "other_aid                 26248 non-null int64\n",
      "infrastructure_related    26248 non-null int64\n",
      "transport                 26248 non-null int64\n",
      "buildings                 26248 non-null int64\n",
      "electricity               26248 non-null int64\n",
      "tools                     26248 non-null int64\n",
      "hospitals                 26248 non-null int64\n",
      "shops                     26248 non-null int64\n",
      "aid_centers               26248 non-null int64\n",
      "other_infrastructure      26248 non-null int64\n",
      "weather_related           26248 non-null int64\n",
      "floods                    26248 non-null int64\n",
      "storm                     26248 non-null int64\n",
      "fire                      26248 non-null int64\n",
      "earthquake                26248 non-null int64\n",
      "cold                      26248 non-null int64\n",
      "other_weather             26248 non-null int64\n",
      "direct_report             26248 non-null int64\n",
      "dtypes: int64(37), object(4)\n",
      "memory usage: 8.4+ MB\n"
     ]
    }
   ],
   "source": [
    "full_df.info()"
   ]
  },
  {
   "cell_type": "code",
   "execution_count": 11,
   "metadata": {},
   "outputs": [
    {
     "data": {
      "text/html": [
       "<div>\n",
       "<style scoped>\n",
       "    .dataframe tbody tr th:only-of-type {\n",
       "        vertical-align: middle;\n",
       "    }\n",
       "\n",
       "    .dataframe tbody tr th {\n",
       "        vertical-align: top;\n",
       "    }\n",
       "\n",
       "    .dataframe thead th {\n",
       "        text-align: right;\n",
       "    }\n",
       "</style>\n",
       "<table border=\"1\" class=\"dataframe\">\n",
       "  <thead>\n",
       "    <tr style=\"text-align: right;\">\n",
       "      <th></th>\n",
       "      <th>0</th>\n",
       "      <th>1</th>\n",
       "      <th>2</th>\n",
       "    </tr>\n",
       "  </thead>\n",
       "  <tbody>\n",
       "    <tr>\n",
       "      <th>related</th>\n",
       "      <td>6125.0</td>\n",
       "      <td>19930.0</td>\n",
       "      <td>193.0</td>\n",
       "    </tr>\n",
       "    <tr>\n",
       "      <th>request</th>\n",
       "      <td>21768.0</td>\n",
       "      <td>4480.0</td>\n",
       "      <td>NaN</td>\n",
       "    </tr>\n",
       "    <tr>\n",
       "      <th>offer</th>\n",
       "      <td>26129.0</td>\n",
       "      <td>119.0</td>\n",
       "      <td>NaN</td>\n",
       "    </tr>\n",
       "    <tr>\n",
       "      <th>aid_related</th>\n",
       "      <td>15370.0</td>\n",
       "      <td>10878.0</td>\n",
       "      <td>NaN</td>\n",
       "    </tr>\n",
       "    <tr>\n",
       "      <th>medical_help</th>\n",
       "      <td>24161.0</td>\n",
       "      <td>2087.0</td>\n",
       "      <td>NaN</td>\n",
       "    </tr>\n",
       "    <tr>\n",
       "      <th>medical_products</th>\n",
       "      <td>24934.0</td>\n",
       "      <td>1314.0</td>\n",
       "      <td>NaN</td>\n",
       "    </tr>\n",
       "    <tr>\n",
       "      <th>search_and_rescue</th>\n",
       "      <td>25524.0</td>\n",
       "      <td>724.0</td>\n",
       "      <td>NaN</td>\n",
       "    </tr>\n",
       "    <tr>\n",
       "      <th>security</th>\n",
       "      <td>25777.0</td>\n",
       "      <td>471.0</td>\n",
       "      <td>NaN</td>\n",
       "    </tr>\n",
       "    <tr>\n",
       "      <th>military</th>\n",
       "      <td>25388.0</td>\n",
       "      <td>860.0</td>\n",
       "      <td>NaN</td>\n",
       "    </tr>\n",
       "    <tr>\n",
       "      <th>child_alone</th>\n",
       "      <td>26248.0</td>\n",
       "      <td>NaN</td>\n",
       "      <td>NaN</td>\n",
       "    </tr>\n",
       "    <tr>\n",
       "      <th>water</th>\n",
       "      <td>24574.0</td>\n",
       "      <td>1674.0</td>\n",
       "      <td>NaN</td>\n",
       "    </tr>\n",
       "    <tr>\n",
       "      <th>food</th>\n",
       "      <td>23318.0</td>\n",
       "      <td>2930.0</td>\n",
       "      <td>NaN</td>\n",
       "    </tr>\n",
       "    <tr>\n",
       "      <th>shelter</th>\n",
       "      <td>23929.0</td>\n",
       "      <td>2319.0</td>\n",
       "      <td>NaN</td>\n",
       "    </tr>\n",
       "    <tr>\n",
       "      <th>clothing</th>\n",
       "      <td>25842.0</td>\n",
       "      <td>406.0</td>\n",
       "      <td>NaN</td>\n",
       "    </tr>\n",
       "    <tr>\n",
       "      <th>money</th>\n",
       "      <td>25644.0</td>\n",
       "      <td>604.0</td>\n",
       "      <td>NaN</td>\n",
       "    </tr>\n",
       "    <tr>\n",
       "      <th>missing_people</th>\n",
       "      <td>25949.0</td>\n",
       "      <td>299.0</td>\n",
       "      <td>NaN</td>\n",
       "    </tr>\n",
       "    <tr>\n",
       "      <th>refugees</th>\n",
       "      <td>25372.0</td>\n",
       "      <td>876.0</td>\n",
       "      <td>NaN</td>\n",
       "    </tr>\n",
       "    <tr>\n",
       "      <th>death</th>\n",
       "      <td>25052.0</td>\n",
       "      <td>1196.0</td>\n",
       "      <td>NaN</td>\n",
       "    </tr>\n",
       "    <tr>\n",
       "      <th>other_aid</th>\n",
       "      <td>22800.0</td>\n",
       "      <td>3448.0</td>\n",
       "      <td>NaN</td>\n",
       "    </tr>\n",
       "    <tr>\n",
       "      <th>infrastructure_related</th>\n",
       "      <td>24543.0</td>\n",
       "      <td>1705.0</td>\n",
       "      <td>NaN</td>\n",
       "    </tr>\n",
       "    <tr>\n",
       "      <th>transport</th>\n",
       "      <td>25045.0</td>\n",
       "      <td>1203.0</td>\n",
       "      <td>NaN</td>\n",
       "    </tr>\n",
       "    <tr>\n",
       "      <th>buildings</th>\n",
       "      <td>24913.0</td>\n",
       "      <td>1335.0</td>\n",
       "      <td>NaN</td>\n",
       "    </tr>\n",
       "    <tr>\n",
       "      <th>electricity</th>\n",
       "      <td>25714.0</td>\n",
       "      <td>534.0</td>\n",
       "      <td>NaN</td>\n",
       "    </tr>\n",
       "    <tr>\n",
       "      <th>tools</th>\n",
       "      <td>26089.0</td>\n",
       "      <td>159.0</td>\n",
       "      <td>NaN</td>\n",
       "    </tr>\n",
       "    <tr>\n",
       "      <th>hospitals</th>\n",
       "      <td>25965.0</td>\n",
       "      <td>283.0</td>\n",
       "      <td>NaN</td>\n",
       "    </tr>\n",
       "    <tr>\n",
       "      <th>shops</th>\n",
       "      <td>26128.0</td>\n",
       "      <td>120.0</td>\n",
       "      <td>NaN</td>\n",
       "    </tr>\n",
       "    <tr>\n",
       "      <th>aid_centers</th>\n",
       "      <td>25939.0</td>\n",
       "      <td>309.0</td>\n",
       "      <td>NaN</td>\n",
       "    </tr>\n",
       "    <tr>\n",
       "      <th>other_infrastructure</th>\n",
       "      <td>25097.0</td>\n",
       "      <td>1151.0</td>\n",
       "      <td>NaN</td>\n",
       "    </tr>\n",
       "    <tr>\n",
       "      <th>weather_related</th>\n",
       "      <td>18944.0</td>\n",
       "      <td>7304.0</td>\n",
       "      <td>NaN</td>\n",
       "    </tr>\n",
       "    <tr>\n",
       "      <th>floods</th>\n",
       "      <td>24090.0</td>\n",
       "      <td>2158.0</td>\n",
       "      <td>NaN</td>\n",
       "    </tr>\n",
       "    <tr>\n",
       "      <th>storm</th>\n",
       "      <td>23800.0</td>\n",
       "      <td>2448.0</td>\n",
       "      <td>NaN</td>\n",
       "    </tr>\n",
       "    <tr>\n",
       "      <th>fire</th>\n",
       "      <td>25966.0</td>\n",
       "      <td>282.0</td>\n",
       "      <td>NaN</td>\n",
       "    </tr>\n",
       "    <tr>\n",
       "      <th>earthquake</th>\n",
       "      <td>23793.0</td>\n",
       "      <td>2455.0</td>\n",
       "      <td>NaN</td>\n",
       "    </tr>\n",
       "    <tr>\n",
       "      <th>cold</th>\n",
       "      <td>25718.0</td>\n",
       "      <td>530.0</td>\n",
       "      <td>NaN</td>\n",
       "    </tr>\n",
       "    <tr>\n",
       "      <th>other_weather</th>\n",
       "      <td>24872.0</td>\n",
       "      <td>1376.0</td>\n",
       "      <td>NaN</td>\n",
       "    </tr>\n",
       "    <tr>\n",
       "      <th>direct_report</th>\n",
       "      <td>21167.0</td>\n",
       "      <td>5081.0</td>\n",
       "      <td>NaN</td>\n",
       "    </tr>\n",
       "  </tbody>\n",
       "</table>\n",
       "</div>"
      ],
      "text/plain": [
       "                              0        1      2\n",
       "related                  6125.0  19930.0  193.0\n",
       "request                 21768.0   4480.0    NaN\n",
       "offer                   26129.0    119.0    NaN\n",
       "aid_related             15370.0  10878.0    NaN\n",
       "medical_help            24161.0   2087.0    NaN\n",
       "medical_products        24934.0   1314.0    NaN\n",
       "search_and_rescue       25524.0    724.0    NaN\n",
       "security                25777.0    471.0    NaN\n",
       "military                25388.0    860.0    NaN\n",
       "child_alone             26248.0      NaN    NaN\n",
       "water                   24574.0   1674.0    NaN\n",
       "food                    23318.0   2930.0    NaN\n",
       "shelter                 23929.0   2319.0    NaN\n",
       "clothing                25842.0    406.0    NaN\n",
       "money                   25644.0    604.0    NaN\n",
       "missing_people          25949.0    299.0    NaN\n",
       "refugees                25372.0    876.0    NaN\n",
       "death                   25052.0   1196.0    NaN\n",
       "other_aid               22800.0   3448.0    NaN\n",
       "infrastructure_related  24543.0   1705.0    NaN\n",
       "transport               25045.0   1203.0    NaN\n",
       "buildings               24913.0   1335.0    NaN\n",
       "electricity             25714.0    534.0    NaN\n",
       "tools                   26089.0    159.0    NaN\n",
       "hospitals               25965.0    283.0    NaN\n",
       "shops                   26128.0    120.0    NaN\n",
       "aid_centers             25939.0    309.0    NaN\n",
       "other_infrastructure    25097.0   1151.0    NaN\n",
       "weather_related         18944.0   7304.0    NaN\n",
       "floods                  24090.0   2158.0    NaN\n",
       "storm                   23800.0   2448.0    NaN\n",
       "fire                    25966.0    282.0    NaN\n",
       "earthquake              23793.0   2455.0    NaN\n",
       "cold                    25718.0    530.0    NaN\n",
       "other_weather           24872.0   1376.0    NaN\n",
       "direct_report           21167.0   5081.0    NaN"
      ]
     },
     "execution_count": 11,
     "metadata": {},
     "output_type": "execute_result"
    }
   ],
   "source": [
    "full_df.loc[:, 'related':].apply(pd.value_counts).T"
   ]
  },
  {
   "cell_type": "code",
   "execution_count": 12,
   "metadata": {},
   "outputs": [
    {
     "data": {
      "text/plain": [
       "63"
      ]
     },
     "execution_count": 12,
     "metadata": {},
     "output_type": "execute_result"
    }
   ],
   "source": [
    "full_df.duplicated(keep=False).sum()"
   ]
  },
  {
   "cell_type": "code",
   "execution_count": 13,
   "metadata": {},
   "outputs": [
    {
     "data": {
      "text/plain": [
       "<matplotlib.axes._subplots.AxesSubplot at 0x7fe711228390>"
      ]
     },
     "execution_count": 13,
     "metadata": {},
     "output_type": "execute_result"
    },
    {
     "data": {
      "image/png": "[encoded data removed]",
      "text/plain": [
       "<Figure size 576x432 with 1 Axes>"
      ]
     },
     "metadata": {
      "needs_background": "light"
     },
     "output_type": "display_data"
    }
   ],
   "source": [
    "full_df.loc[:, 'related':].sum(axis=1).value_counts().sort_index(ascending=False).plot.barh()"
   ]
  },
  {
   "cell_type": "markdown",
   "metadata": {},
   "source": [
    "### Project data"
   ]
  },
  {
   "cell_type": "markdown",
   "metadata": {},
   "source": [
    "**Messages**"
   ]
  },
  {
   "cell_type": "code",
   "execution_count": 14,
   "metadata": {},
   "outputs": [
    {
     "name": "stdout",
     "output_type": "stream",
     "text": [
      "<class 'pandas.core.frame.DataFrame'>\n",
      "RangeIndex: 26248 entries, 0 to 26247\n",
      "Data columns (total 4 columns):\n",
      "id          26248 non-null int64\n",
      "message     26248 non-null object\n",
      "original    10184 non-null object\n",
      "genre       26248 non-null object\n",
      "dtypes: int64(1), object(3)\n",
      "memory usage: 820.4+ KB\n"
     ]
    }
   ],
   "source": [
    "messages_df.info()"
   ]
  },
  {
   "cell_type": "code",
   "execution_count": 15,
   "metadata": {},
   "outputs": [
    {
     "data": {
      "text/html": [
       "<div>\n",
       "<style scoped>\n",
       "    .dataframe tbody tr th:only-of-type {\n",
       "        vertical-align: middle;\n",
       "    }\n",
       "\n",
       "    .dataframe tbody tr th {\n",
       "        vertical-align: top;\n",
       "    }\n",
       "\n",
       "    .dataframe thead th {\n",
       "        text-align: right;\n",
       "    }\n",
       "</style>\n",
       "<table border=\"1\" class=\"dataframe\">\n",
       "  <thead>\n",
       "    <tr style=\"text-align: right;\">\n",
       "      <th></th>\n",
       "      <th>id</th>\n",
       "      <th>message</th>\n",
       "      <th>original</th>\n",
       "      <th>genre</th>\n",
       "    </tr>\n",
       "  </thead>\n",
       "  <tbody>\n",
       "    <tr>\n",
       "      <th>count</th>\n",
       "      <td>26248.000000</td>\n",
       "      <td>26248</td>\n",
       "      <td>10184</td>\n",
       "      <td>26248</td>\n",
       "    </tr>\n",
       "    <tr>\n",
       "      <th>unique</th>\n",
       "      <td>NaN</td>\n",
       "      <td>26177</td>\n",
       "      <td>9630</td>\n",
       "      <td>3</td>\n",
       "    </tr>\n",
       "    <tr>\n",
       "      <th>top</th>\n",
       "      <td>NaN</td>\n",
       "      <td>#NAME?</td>\n",
       "      <td>Nap fe ou konnen ke apati de jodi a sevis SMS ...</td>\n",
       "      <td>news</td>\n",
       "    </tr>\n",
       "    <tr>\n",
       "      <th>freq</th>\n",
       "      <td>NaN</td>\n",
       "      <td>4</td>\n",
       "      <td>20</td>\n",
       "      <td>13068</td>\n",
       "    </tr>\n",
       "    <tr>\n",
       "      <th>mean</th>\n",
       "      <td>15224.078368</td>\n",
       "      <td>NaN</td>\n",
       "      <td>NaN</td>\n",
       "      <td>NaN</td>\n",
       "    </tr>\n",
       "    <tr>\n",
       "      <th>std</th>\n",
       "      <td>8826.069156</td>\n",
       "      <td>NaN</td>\n",
       "      <td>NaN</td>\n",
       "      <td>NaN</td>\n",
       "    </tr>\n",
       "    <tr>\n",
       "      <th>min</th>\n",
       "      <td>2.000000</td>\n",
       "      <td>NaN</td>\n",
       "      <td>NaN</td>\n",
       "      <td>NaN</td>\n",
       "    </tr>\n",
       "    <tr>\n",
       "      <th>25%</th>\n",
       "      <td>7445.750000</td>\n",
       "      <td>NaN</td>\n",
       "      <td>NaN</td>\n",
       "      <td>NaN</td>\n",
       "    </tr>\n",
       "    <tr>\n",
       "      <th>50%</th>\n",
       "      <td>15660.500000</td>\n",
       "      <td>NaN</td>\n",
       "      <td>NaN</td>\n",
       "      <td>NaN</td>\n",
       "    </tr>\n",
       "    <tr>\n",
       "      <th>75%</th>\n",
       "      <td>22923.250000</td>\n",
       "      <td>NaN</td>\n",
       "      <td>NaN</td>\n",
       "      <td>NaN</td>\n",
       "    </tr>\n",
       "    <tr>\n",
       "      <th>max</th>\n",
       "      <td>30265.000000</td>\n",
       "      <td>NaN</td>\n",
       "      <td>NaN</td>\n",
       "      <td>NaN</td>\n",
       "    </tr>\n",
       "  </tbody>\n",
       "</table>\n",
       "</div>"
      ],
      "text/plain": [
       "                  id message  \\\n",
       "count   26248.000000   26248   \n",
       "unique           NaN   26177   \n",
       "top              NaN  #NAME?   \n",
       "freq             NaN       4   \n",
       "mean    15224.078368     NaN   \n",
       "std      8826.069156     NaN   \n",
       "min         2.000000     NaN   \n",
       "25%      7445.750000     NaN   \n",
       "50%     15660.500000     NaN   \n",
       "75%     22923.250000     NaN   \n",
       "max     30265.000000     NaN   \n",
       "\n",
       "                                                 original  genre  \n",
       "count                                               10184  26248  \n",
       "unique                                               9630      3  \n",
       "top     Nap fe ou konnen ke apati de jodi a sevis SMS ...   news  \n",
       "freq                                                   20  13068  \n",
       "mean                                                  NaN    NaN  \n",
       "std                                                   NaN    NaN  \n",
       "min                                                   NaN    NaN  \n",
       "25%                                                   NaN    NaN  \n",
       "50%                                                   NaN    NaN  \n",
       "75%                                                   NaN    NaN  \n",
       "max                                                   NaN    NaN  "
      ]
     },
     "execution_count": 15,
     "metadata": {},
     "output_type": "execute_result"
    }
   ],
   "source": [
    "messages_df.describe(include='all')"
   ]
  },
  {
   "cell_type": "code",
   "execution_count": 16,
   "metadata": {},
   "outputs": [
    {
     "data": {
      "text/plain": [
       "135"
      ]
     },
     "execution_count": 16,
     "metadata": {},
     "output_type": "execute_result"
    }
   ],
   "source": [
    "messages_df.duplicated(keep=False).sum()"
   ]
  },
  {
   "cell_type": "markdown",
   "metadata": {},
   "source": [
    "**Categories**"
   ]
  },
  {
   "cell_type": "code",
   "execution_count": 17,
   "metadata": {},
   "outputs": [
    {
     "name": "stdout",
     "output_type": "stream",
     "text": [
      "<class 'pandas.core.frame.DataFrame'>\n",
      "RangeIndex: 26248 entries, 0 to 26247\n",
      "Data columns (total 2 columns):\n",
      "id            26248 non-null int64\n",
      "categories    26248 non-null object\n",
      "dtypes: int64(1), object(1)\n",
      "memory usage: 410.2+ KB\n"
     ]
    }
   ],
   "source": [
    "categories_df.info()"
   ]
  },
  {
   "cell_type": "code",
   "execution_count": 18,
   "metadata": {},
   "outputs": [
    {
     "data": {
      "text/plain": [
       "63"
      ]
     },
     "execution_count": 18,
     "metadata": {},
     "output_type": "execute_result"
    }
   ],
   "source": [
    "categories_df.duplicated(keep=False).sum()"
   ]
  },
  {
   "cell_type": "code",
   "execution_count": 19,
   "metadata": {},
   "outputs": [
    {
     "data": {
      "text/html": [
       "<div>\n",
       "<style scoped>\n",
       "    .dataframe tbody tr th:only-of-type {\n",
       "        vertical-align: middle;\n",
       "    }\n",
       "\n",
       "    .dataframe tbody tr th {\n",
       "        vertical-align: top;\n",
       "    }\n",
       "\n",
       "    .dataframe thead th {\n",
       "        text-align: right;\n",
       "    }\n",
       "</style>\n",
       "<table border=\"1\" class=\"dataframe\">\n",
       "  <thead>\n",
       "    <tr style=\"text-align: right;\">\n",
       "      <th></th>\n",
       "      <th>id</th>\n",
       "      <th>categories</th>\n",
       "    </tr>\n",
       "  </thead>\n",
       "  <tbody>\n",
       "    <tr>\n",
       "      <th>count</th>\n",
       "      <td>26248.000000</td>\n",
       "      <td>26248</td>\n",
       "    </tr>\n",
       "    <tr>\n",
       "      <th>unique</th>\n",
       "      <td>NaN</td>\n",
       "      <td>4003</td>\n",
       "    </tr>\n",
       "    <tr>\n",
       "      <th>top</th>\n",
       "      <td>NaN</td>\n",
       "      <td>related-0;request-0;offer-0;aid_related-0;medi...</td>\n",
       "    </tr>\n",
       "    <tr>\n",
       "      <th>freq</th>\n",
       "      <td>NaN</td>\n",
       "      <td>6125</td>\n",
       "    </tr>\n",
       "    <tr>\n",
       "      <th>mean</th>\n",
       "      <td>15224.078368</td>\n",
       "      <td>NaN</td>\n",
       "    </tr>\n",
       "    <tr>\n",
       "      <th>std</th>\n",
       "      <td>8826.069156</td>\n",
       "      <td>NaN</td>\n",
       "    </tr>\n",
       "    <tr>\n",
       "      <th>min</th>\n",
       "      <td>2.000000</td>\n",
       "      <td>NaN</td>\n",
       "    </tr>\n",
       "    <tr>\n",
       "      <th>25%</th>\n",
       "      <td>7445.750000</td>\n",
       "      <td>NaN</td>\n",
       "    </tr>\n",
       "    <tr>\n",
       "      <th>50%</th>\n",
       "      <td>15660.500000</td>\n",
       "      <td>NaN</td>\n",
       "    </tr>\n",
       "    <tr>\n",
       "      <th>75%</th>\n",
       "      <td>22923.250000</td>\n",
       "      <td>NaN</td>\n",
       "    </tr>\n",
       "    <tr>\n",
       "      <th>max</th>\n",
       "      <td>30265.000000</td>\n",
       "      <td>NaN</td>\n",
       "    </tr>\n",
       "  </tbody>\n",
       "</table>\n",
       "</div>"
      ],
      "text/plain": [
       "                  id                                         categories\n",
       "count   26248.000000                                              26248\n",
       "unique           NaN                                               4003\n",
       "top              NaN  related-0;request-0;offer-0;aid_related-0;medi...\n",
       "freq             NaN                                               6125\n",
       "mean    15224.078368                                                NaN\n",
       "std      8826.069156                                                NaN\n",
       "min         2.000000                                                NaN\n",
       "25%      7445.750000                                                NaN\n",
       "50%     15660.500000                                                NaN\n",
       "75%     22923.250000                                                NaN\n",
       "max     30265.000000                                                NaN"
      ]
     },
     "execution_count": 19,
     "metadata": {},
     "output_type": "execute_result"
    }
   ],
   "source": [
    "categories_df.describe(include='all')"
   ]
  },
  {
   "cell_type": "markdown",
   "metadata": {},
   "source": [
    "## Explore data"
   ]
  },
  {
   "cell_type": "markdown",
   "metadata": {},
   "source": [
    "### Messages"
   ]
  },
  {
   "cell_type": "markdown",
   "metadata": {},
   "source": [
    "**id**"
   ]
  },
  {
   "cell_type": "code",
   "execution_count": 20,
   "metadata": {},
   "outputs": [
    {
     "data": {
      "text/plain": [
       "<matplotlib.axes._subplots.AxesSubplot at 0x7fe71106b400>"
      ]
     },
     "execution_count": 20,
     "metadata": {},
     "output_type": "execute_result"
    },
    {
     "data": {
      "image/png": "[encoded data removed]",
      "text/plain": [
       "<Figure size 720x144 with 1 Axes>"
      ]
     },
     "metadata": {
      "needs_background": "light"
     },
     "output_type": "display_data"
    }
   ],
   "source": [
    "plt.figure(figsize=(10, 2))\n",
    "sns.rugplot(messages_df['id'])"
   ]
  },
  {
   "cell_type": "markdown",
   "metadata": {},
   "source": [
    "**message**"
   ]
  },
  {
   "cell_type": "code",
   "execution_count": 21,
   "metadata": {},
   "outputs": [
    {
     "data": {
      "text/plain": [
       "#NAME?                                                                                                                                    4\n",
       "Shelter materials (thick polyesters) are being distributed to 18,000 households.                                                          3\n",
       "I thought you gave my number and this was serious. Meanwhile today has been 15 days and we still haven't gotten anything                  2\n",
       "I am in Carefour Feuilles, Dkayet neighborhood. We need potable water because diarrhea is rampant here and is undermining our health.     2\n",
       "?? port au prince ?? and food. they need goverment aid and international aid thak you. god bless haiti                                    2\n",
       "Name: message, dtype: int64"
      ]
     },
     "execution_count": 21,
     "metadata": {},
     "output_type": "execute_result"
    }
   ],
   "source": [
    "messages_df['message'].value_counts(dropna=False).head()"
   ]
  },
  {
   "cell_type": "code",
   "execution_count": 22,
   "metadata": {},
   "outputs": [
    {
     "data": {
      "text/plain": [
       "count    26248.000000\n",
       "mean       144.754267\n",
       "std        207.170242\n",
       "min          4.000000\n",
       "25%         75.000000\n",
       "50%        124.000000\n",
       "75%        179.000000\n",
       "max      10818.000000\n",
       "Name: message, dtype: float64"
      ]
     },
     "execution_count": 22,
     "metadata": {},
     "output_type": "execute_result"
    }
   ],
   "source": [
    "messages_df['message'].str.len().describe()"
   ]
  },
  {
   "cell_type": "code",
   "execution_count": 23,
   "metadata": {},
   "outputs": [
    {
     "data": {
      "text/html": [
       "<div>\n",
       "<style scoped>\n",
       "    .dataframe tbody tr th:only-of-type {\n",
       "        vertical-align: middle;\n",
       "    }\n",
       "\n",
       "    .dataframe tbody tr th {\n",
       "        vertical-align: top;\n",
       "    }\n",
       "\n",
       "    .dataframe thead th {\n",
       "        text-align: right;\n",
       "    }\n",
       "</style>\n",
       "<table border=\"1\" class=\"dataframe\">\n",
       "  <thead>\n",
       "    <tr style=\"text-align: right;\">\n",
       "      <th></th>\n",
       "      <th>id</th>\n",
       "      <th>message</th>\n",
       "      <th>original</th>\n",
       "      <th>genre</th>\n",
       "    </tr>\n",
       "  </thead>\n",
       "  <tbody>\n",
       "    <tr>\n",
       "      <th>351</th>\n",
       "      <td>425</td>\n",
       "      <td>Need food, water and medicine</td>\n",
       "      <td>Nous avons besoin des tentes, de la nourriture...</td>\n",
       "      <td>direct</td>\n",
       "    </tr>\n",
       "    <tr>\n",
       "      <th>1473</th>\n",
       "      <td>1721</td>\n",
       "      <td>sports information. football.</td>\n",
       "      <td>informations sportives. football</td>\n",
       "      <td>direct</td>\n",
       "    </tr>\n",
       "    <tr>\n",
       "      <th>1571</th>\n",
       "      <td>1827</td>\n",
       "      <td>I'm a chauffeur. I need work.</td>\n",
       "      <td>Mwen se yon chof mwen bezwen travay</td>\n",
       "      <td>direct</td>\n",
       "    </tr>\n",
       "    <tr>\n",
       "      <th>2528</th>\n",
       "      <td>2913</td>\n",
       "      <td>I miss you terribly, my dear.</td>\n",
       "      <td>Tu me manques normement chouchou!</td>\n",
       "      <td>direct</td>\n",
       "    </tr>\n",
       "    <tr>\n",
       "      <th>2954</th>\n",
       "      <td>3406</td>\n",
       "      <td>I would like to get info. ..</td>\n",
       "      <td>Je voudrais avoir des infos. ..</td>\n",
       "      <td>direct</td>\n",
       "    </tr>\n",
       "    <tr>\n",
       "      <th>3787</th>\n",
       "      <td>4340</td>\n",
       "      <td>I live in Belaire, I need ..</td>\n",
       "      <td>mwen rete belaire mwen bezwen. .. ..</td>\n",
       "      <td>direct</td>\n",
       "    </tr>\n",
       "    <tr>\n",
       "      <th>6797</th>\n",
       "      <td>7700</td>\n",
       "      <td>paklascencion##s</td>\n",
       "      <td>Paklascencion##s</td>\n",
       "      <td>direct</td>\n",
       "    </tr>\n",
       "    <tr>\n",
       "      <th>7141</th>\n",
       "      <td>8057</td>\n",
       "      <td>9GeQYeYGQEQtm</td>\n",
       "      <td>9GeQYeYGQEQtmi</td>\n",
       "      <td>direct</td>\n",
       "    </tr>\n",
       "    <tr>\n",
       "      <th>7266</th>\n",
       "      <td>8192</td>\n",
       "      <td>0H 8@@ @2x @e8x3 xr</td>\n",
       "      <td>0Hlt 8@@ @2x @e8x3 xr    a</td>\n",
       "      <td>direct</td>\n",
       "    </tr>\n",
       "    <tr>\n",
       "      <th>7559</th>\n",
       "      <td>8497</td>\n",
       "      <td>//// // @:@</td>\n",
       "      <td>//// // @lt : gt@</td>\n",
       "      <td>direct</td>\n",
       "    </tr>\n",
       "    <tr>\n",
       "      <th>8302</th>\n",
       "      <td>9298</td>\n",
       "      <td>Thank you united of nations.</td>\n",
       "      <td>m tout moun kontan mesi ampil nasyon zini koun...</td>\n",
       "      <td>direct</td>\n",
       "    </tr>\n",
       "    <tr>\n",
       "      <th>8710</th>\n",
       "      <td>9742</td>\n",
       "      <td>NOTES: this is not important.</td>\n",
       "      <td>Cyclone Vincent jaccin swete DIGICEL yon jwaye...</td>\n",
       "      <td>direct</td>\n",
       "    </tr>\n",
       "    <tr>\n",
       "      <th>9791</th>\n",
       "      <td>11031</td>\n",
       "      <td>Robinson: 55  Ing Eliacin</td>\n",
       "      <td>Robinson: 55  Ing Eliacin</td>\n",
       "      <td>direct</td>\n",
       "    </tr>\n",
       "    <tr>\n",
       "      <th>9827</th>\n",
       "      <td>11082</td>\n",
       "      <td>0H4Z(Z x(@zf0 ?!?@x PrxP0c6</td>\n",
       "      <td>0H4Z(Zx(@zf0gt ?!?@xPrxP0c6</td>\n",
       "      <td>direct</td>\n",
       "    </tr>\n",
       "    <tr>\n",
       "      <th>12166</th>\n",
       "      <td>14138</td>\n",
       "      <td>Sukkur , ,    ,</td>\n",
       "      <td>a</td>\n",
       "      <td>direct</td>\n",
       "    </tr>\n",
       "    <tr>\n",
       "      <th>12171</th>\n",
       "      <td>14156</td>\n",
       "      <td>Tahsel. jamur.    Rajanpur?</td>\n",
       "      <td>tahsel. jamur. d.s.s.  a</td>\n",
       "      <td>direct</td>\n",
       "    </tr>\n",
       "    <tr>\n",
       "      <th>12184</th>\n",
       "      <td>14219</td>\n",
       "      <td>kamea     kole asman K</td>\n",
       "      <td>a kamea Nea a kole asman   a madad  a</td>\n",
       "      <td>direct</td>\n",
       "    </tr>\n",
       "    <tr>\n",
       "      <th>12221</th>\n",
       "      <td>14315</td>\n",
       "      <td></td>\n",
       "      <td>a</td>\n",
       "      <td>direct</td>\n",
       "    </tr>\n",
       "    <tr>\n",
       "      <th>12225</th>\n",
       "      <td>14329</td>\n",
       "      <td>.</td>\n",
       "      <td>a</td>\n",
       "      <td>direct</td>\n",
       "    </tr>\n",
       "    <tr>\n",
       "      <th>12232</th>\n",
       "      <td>14352</td>\n",
       "      <td>thatta,         (, ,)</td>\n",
       "      <td>( )     a</td>\n",
       "      <td>direct</td>\n",
       "    </tr>\n",
       "    <tr>\n",
       "      <th>12258</th>\n",
       "      <td>14428</td>\n",
       "      <td></td>\n",
       "      <td>Shikarpur     a shikarpur          a</td>\n",
       "      <td>direct</td>\n",
       "    </tr>\n",
       "    <tr>\n",
       "      <th>12260</th>\n",
       "      <td>14439</td>\n",
       "      <td>PIDE                 .</td>\n",
       "      <td>PIDE                  .  a</td>\n",
       "      <td>direct</td>\n",
       "    </tr>\n",
       "    <tr>\n",
       "      <th>12269</th>\n",
       "      <td>14462</td>\n",
       "      <td>MUTASER</td>\n",
       "      <td>MUTASER</td>\n",
       "      <td>direct</td>\n",
       "    </tr>\n",
       "    <tr>\n",
       "      <th>12316</th>\n",
       "      <td>14592</td>\n",
       "      <td>MAOZA          U  REP '</td>\n",
       "      <td>MAOZA       MUZAFAR   u  REP '</td>\n",
       "      <td>direct</td>\n",
       "    </tr>\n",
       "    <tr>\n",
       "      <th>12317</th>\n",
       "      <td>14592</td>\n",
       "      <td>MAOZA          U  REP '</td>\n",
       "      <td>MAOZA       MUZAFAR   u  REP '</td>\n",
       "      <td>direct</td>\n",
       "    </tr>\n",
       "    <tr>\n",
       "      <th>16555</th>\n",
       "      <td>19448</td>\n",
       "      <td>#NAME?</td>\n",
       "      <td>NaN</td>\n",
       "      <td>news</td>\n",
       "    </tr>\n",
       "    <tr>\n",
       "      <th>21749</th>\n",
       "      <td>25213</td>\n",
       "      <td>#NAME?</td>\n",
       "      <td>NaN</td>\n",
       "      <td>news</td>\n",
       "    </tr>\n",
       "    <tr>\n",
       "      <th>22527</th>\n",
       "      <td>26062</td>\n",
       "      <td>#NAME?</td>\n",
       "      <td>NaN</td>\n",
       "      <td>news</td>\n",
       "    </tr>\n",
       "    <tr>\n",
       "      <th>22737</th>\n",
       "      <td>26309</td>\n",
       "      <td>#NAME?</td>\n",
       "      <td>NaN</td>\n",
       "      <td>news</td>\n",
       "    </tr>\n",
       "  </tbody>\n",
       "</table>\n",
       "</div>"
      ],
      "text/plain": [
       "          id                        message  \\\n",
       "351      425  Need food, water and medicine   \n",
       "1473    1721  sports information. football.   \n",
       "1571    1827  I'm a chauffeur. I need work.   \n",
       "2528    2913  I miss you terribly, my dear.   \n",
       "2954    3406   I would like to get info. ..   \n",
       "3787    4340  I live in Belaire, I need ..    \n",
       "6797    7700              paklascencion##s    \n",
       "7141    8057                9GeQYeYGQEQtm     \n",
       "7266    8192       0H 8@@ @2x @e8x3 xr        \n",
       "7559    8497                   //// // @:@    \n",
       "8302    9298  Thank you united of nations.    \n",
       "8710    9742  NOTES: this is not important.   \n",
       "9791   11031    Robinson: 55  Ing Eliacin     \n",
       "9827   11082   0H4Z(Z x(@zf0 ?!?@x PrxP0c6    \n",
       "12166  14138      Sukkur , ,    ,             \n",
       "12171  14156    Tahsel. jamur.    Rajanpur?   \n",
       "12184  14219    kamea     kole asman K        \n",
       "12221  14315                                  \n",
       "12225  14329                              .   \n",
       "12232  14352      thatta,         (, ,)       \n",
       "12258  14428                                  \n",
       "12260  14439       PIDE                 .     \n",
       "12269  14462                       MUTASER    \n",
       "12316  14592        MAOZA          U  REP '   \n",
       "12317  14592        MAOZA          U  REP '   \n",
       "16555  19448                         #NAME?   \n",
       "21749  25213                         #NAME?   \n",
       "22527  26062                         #NAME?   \n",
       "22737  26309                         #NAME?   \n",
       "\n",
       "                                                original   genre  \n",
       "351    Nous avons besoin des tentes, de la nourriture...  direct  \n",
       "1473                    informations sportives. football  direct  \n",
       "1571                 Mwen se yon chof mwen bezwen travay  direct  \n",
       "2528                   Tu me manques normement chouchou!  direct  \n",
       "2954                     Je voudrais avoir des infos. ..  direct  \n",
       "3787                mwen rete belaire mwen bezwen. .. ..  direct  \n",
       "6797                                    Paklascencion##s  direct  \n",
       "7141                                      9GeQYeYGQEQtmi  direct  \n",
       "7266                          0Hlt 8@@ @2x @e8x3 xr    a  direct  \n",
       "7559                                   //// // @lt : gt@  direct  \n",
       "8302   m tout moun kontan mesi ampil nasyon zini koun...  direct  \n",
       "8710   Cyclone Vincent jaccin swete DIGICEL yon jwaye...  direct  \n",
       "9791                          Robinson: 55  Ing Eliacin   direct  \n",
       "9827                         0H4Z(Zx(@zf0gt ?!?@xPrxP0c6  direct  \n",
       "12166                                                  a  direct  \n",
       "12171                           tahsel. jamur. d.s.s.  a  direct  \n",
       "12184              a kamea Nea a kole asman   a madad  a  direct  \n",
       "12221                                                  a  direct  \n",
       "12225                                                  a  direct  \n",
       "12232                                          ( )     a  direct  \n",
       "12258               Shikarpur     a shikarpur          a  direct  \n",
       "12260                         PIDE                  .  a  direct  \n",
       "12269                                           MUTASER   direct  \n",
       "12316                     MAOZA       MUZAFAR   u  REP '  direct  \n",
       "12317                     MAOZA       MUZAFAR   u  REP '  direct  \n",
       "16555                                                NaN    news  \n",
       "21749                                                NaN    news  \n",
       "22527                                                NaN    news  \n",
       "22737                                                NaN    news  "
      ]
     },
     "execution_count": 23,
     "metadata": {},
     "output_type": "execute_result"
    }
   ],
   "source": [
    "messages_df[messages_df['message'].str.len() < 30]"
   ]
  },
  {
   "cell_type": "markdown",
   "metadata": {},
   "source": [
    "**original**"
   ]
  },
  {
   "cell_type": "code",
   "execution_count": 24,
   "metadata": {},
   "outputs": [
    {
     "data": {
      "text/plain": [
       "count    10184.000000\n",
       "mean        85.360369\n",
       "std         45.029406\n",
       "min          1.000000\n",
       "25%         49.000000\n",
       "50%         70.000000\n",
       "75%        119.000000\n",
       "max        327.000000\n",
       "Name: original, dtype: float64"
      ]
     },
     "execution_count": 24,
     "metadata": {},
     "output_type": "execute_result"
    }
   ],
   "source": [
    "messages_df['original'].str.len().describe()"
   ]
  },
  {
   "cell_type": "code",
   "execution_count": 25,
   "metadata": {},
   "outputs": [
    {
     "data": {
      "text/plain": [
       "NaN                                                                                                                                                          16064\n",
       "Nap fe ou konnen ke apati de jodi a sevis SMS 4636 pou enfomasyon ijan                                                                                          20\n",
       "Un front froid se retrouve sur Cuba ce matin. Il pourrait traverser Haiti demain. Des averses de pluie isolee sont encore prevues sur notre region ce soi       19\n",
       "4636 : Nasyonzini di ou men m retire kounye a tout fatra ak gravwa nan#                                                                                          7\n",
       "hmre vilage kachipul men flood ne bht nuksan kiya he hmra crop,hmre ghr aur hmra rozgar sbkch khtm hogya he mgr govt ne abi tk hmri koi help nhn ki he.          6\n",
       "Name: original, dtype: int64"
      ]
     },
     "execution_count": 25,
     "metadata": {},
     "output_type": "execute_result"
    }
   ],
   "source": [
    "messages_df['original'].value_counts(dropna=False).head()"
   ]
  },
  {
   "cell_type": "markdown",
   "metadata": {},
   "source": [
    "**genre**"
   ]
  },
  {
   "cell_type": "code",
   "execution_count": 26,
   "metadata": {},
   "outputs": [
    {
     "data": {
      "text/plain": [
       "news      13068\n",
       "direct    10782\n",
       "social     2398\n",
       "Name: genre, dtype: int64"
      ]
     },
     "execution_count": 26,
     "metadata": {},
     "output_type": "execute_result"
    }
   ],
   "source": [
    "messages_df['genre'].value_counts(dropna=False)"
   ]
  },
  {
   "cell_type": "code",
   "execution_count": 27,
   "metadata": {},
   "outputs": [
    {
     "data": {
      "text/plain": [
       "original  genre \n",
       "False     direct    10184\n",
       "True      direct      598\n",
       "          news      13068\n",
       "          social     2398\n",
       "Name: id, dtype: int64"
      ]
     },
     "execution_count": 27,
     "metadata": {},
     "output_type": "execute_result"
    }
   ],
   "source": [
    "messages_df.groupby([messages_df['original'].isnull(), 'genre'])['id'].count()"
   ]
  },
  {
   "cell_type": "markdown",
   "metadata": {},
   "source": [
    "### Categories"
   ]
  },
  {
   "cell_type": "markdown",
   "metadata": {},
   "source": [
    "**id**"
   ]
  },
  {
   "cell_type": "code",
   "execution_count": 28,
   "metadata": {},
   "outputs": [
    {
     "data": {
      "text/plain": [
       "<matplotlib.axes._subplots.AxesSubplot at 0x7fe712ef9860>"
      ]
     },
     "execution_count": 28,
     "metadata": {},
     "output_type": "execute_result"
    },
    {
     "data": {
      "image/png": "[encoded data removed]",
      "text/plain": [
       "<Figure size 720x144 with 1 Axes>"
      ]
     },
     "metadata": {
      "needs_background": "light"
     },
     "output_type": "display_data"
    }
   ],
   "source": [
    "plt.figure(figsize=(10, 2))\n",
    "sns.rugplot(categories_df['id'])"
   ]
  },
  {
   "cell_type": "markdown",
   "metadata": {},
   "source": [
    "**categories**"
   ]
  },
  {
   "cell_type": "code",
   "execution_count": 29,
   "metadata": {},
   "outputs": [
    {
     "data": {
      "text/plain": [
       "related-0;request-0;offer-0;aid_related-0;medical_help-0;medical_products-0;search_and_rescue-0;security-0;military-0;child_alone-0;water-0;food-0;shelter-0;clothing-0;money-0;missing_people-0;refugees-0;death-0;other_aid-0;infrastructure_related-0;transport-0;buildings-0;electricity-0;tools-0;hospitals-0;shops-0;aid_centers-0;other_infrastructure-0;weather_related-0;floods-0;storm-0;fire-0;earthquake-0;cold-0;other_weather-0;direct_report-0    6125\n",
       "related-1;request-0;offer-0;aid_related-0;medical_help-0;medical_products-0;search_and_rescue-0;security-0;military-0;child_alone-0;water-0;food-0;shelter-0;clothing-0;money-0;missing_people-0;refugees-0;death-0;other_aid-0;infrastructure_related-0;transport-0;buildings-0;electricity-0;tools-0;hospitals-0;shops-0;aid_centers-0;other_infrastructure-0;weather_related-0;floods-0;storm-0;fire-0;earthquake-0;cold-0;other_weather-0;direct_report-0    5123\n",
       "related-1;request-0;offer-0;aid_related-0;medical_help-0;medical_products-0;search_and_rescue-0;security-0;military-0;child_alone-0;water-0;food-0;shelter-0;clothing-0;money-0;missing_people-0;refugees-0;death-0;other_aid-0;infrastructure_related-0;transport-0;buildings-0;electricity-0;tools-0;hospitals-0;shops-0;aid_centers-0;other_infrastructure-0;weather_related-1;floods-0;storm-0;fire-0;earthquake-1;cold-0;other_weather-0;direct_report-0     725\n",
       "related-1;request-0;offer-0;aid_related-0;medical_help-0;medical_products-0;search_and_rescue-0;security-0;military-0;child_alone-0;water-0;food-0;shelter-0;clothing-0;money-0;missing_people-0;refugees-0;death-0;other_aid-0;infrastructure_related-0;transport-0;buildings-0;electricity-0;tools-0;hospitals-0;shops-0;aid_centers-0;other_infrastructure-0;weather_related-1;floods-0;storm-1;fire-0;earthquake-0;cold-0;other_weather-0;direct_report-0     436\n",
       "related-1;request-1;offer-0;aid_related-1;medical_help-0;medical_products-0;search_and_rescue-0;security-0;military-0;child_alone-0;water-0;food-0;shelter-0;clothing-0;money-0;missing_people-0;refugees-0;death-0;other_aid-1;infrastructure_related-0;transport-0;buildings-0;electricity-0;tools-0;hospitals-0;shops-0;aid_centers-0;other_infrastructure-0;weather_related-0;floods-0;storm-0;fire-0;earthquake-0;cold-0;other_weather-0;direct_report-1     433\n",
       "Name: categories, dtype: int64"
      ]
     },
     "execution_count": 29,
     "metadata": {},
     "output_type": "execute_result"
    }
   ],
   "source": [
    "categories_df['categories'].value_counts(dropna=False).head()"
   ]
  },
  {
   "cell_type": "markdown",
   "metadata": {},
   "source": [
    "# Data Preparation"
   ]
  },
  {
   "cell_type": "markdown",
   "metadata": {},
   "source": [
    "## Select data"
   ]
  },
  {
   "cell_type": "markdown",
   "metadata": {},
   "source": [
    "### Messages"
   ]
  },
  {
   "cell_type": "code",
   "execution_count": 30,
   "metadata": {},
   "outputs": [
    {
     "data": {
      "text/html": [
       "<div>\n",
       "<style scoped>\n",
       "    .dataframe tbody tr th:only-of-type {\n",
       "        vertical-align: middle;\n",
       "    }\n",
       "\n",
       "    .dataframe tbody tr th {\n",
       "        vertical-align: top;\n",
       "    }\n",
       "\n",
       "    .dataframe thead th {\n",
       "        text-align: right;\n",
       "    }\n",
       "</style>\n",
       "<table border=\"1\" class=\"dataframe\">\n",
       "  <thead>\n",
       "    <tr style=\"text-align: right;\">\n",
       "      <th></th>\n",
       "      <th>id</th>\n",
       "      <th>message</th>\n",
       "    </tr>\n",
       "  </thead>\n",
       "  <tbody>\n",
       "    <tr>\n",
       "      <th>0</th>\n",
       "      <td>2</td>\n",
       "      <td>Weather update - a cold front from Cuba that c...</td>\n",
       "    </tr>\n",
       "    <tr>\n",
       "      <th>1</th>\n",
       "      <td>7</td>\n",
       "      <td>Is the Hurricane over or is it not over</td>\n",
       "    </tr>\n",
       "    <tr>\n",
       "      <th>2</th>\n",
       "      <td>8</td>\n",
       "      <td>Looking for someone but no name</td>\n",
       "    </tr>\n",
       "    <tr>\n",
       "      <th>3</th>\n",
       "      <td>9</td>\n",
       "      <td>UN reports Leogane 80-90 destroyed. Only Hospi...</td>\n",
       "    </tr>\n",
       "    <tr>\n",
       "      <th>4</th>\n",
       "      <td>12</td>\n",
       "      <td>says: west side of Haiti, rest of the country ...</td>\n",
       "    </tr>\n",
       "    <tr>\n",
       "      <th>...</th>\n",
       "      <td>...</td>\n",
       "      <td>...</td>\n",
       "    </tr>\n",
       "    <tr>\n",
       "      <th>26243</th>\n",
       "      <td>30261</td>\n",
       "      <td>The training demonstrated how to enhance micro...</td>\n",
       "    </tr>\n",
       "    <tr>\n",
       "      <th>26244</th>\n",
       "      <td>30262</td>\n",
       "      <td>A suitable candidate has been selected and OCH...</td>\n",
       "    </tr>\n",
       "    <tr>\n",
       "      <th>26245</th>\n",
       "      <td>30263</td>\n",
       "      <td>Proshika, operating in Cox's Bazar municipalit...</td>\n",
       "    </tr>\n",
       "    <tr>\n",
       "      <th>26246</th>\n",
       "      <td>30264</td>\n",
       "      <td>Some 2,000 women protesting against the conduc...</td>\n",
       "    </tr>\n",
       "    <tr>\n",
       "      <th>26247</th>\n",
       "      <td>30265</td>\n",
       "      <td>A radical shift in thinking came about as a re...</td>\n",
       "    </tr>\n",
       "  </tbody>\n",
       "</table>\n",
       "<p>26180 rows × 2 columns</p>\n",
       "</div>"
      ],
      "text/plain": [
       "          id                                            message\n",
       "0          2  Weather update - a cold front from Cuba that c...\n",
       "1          7            Is the Hurricane over or is it not over\n",
       "2          8                    Looking for someone but no name\n",
       "3          9  UN reports Leogane 80-90 destroyed. Only Hospi...\n",
       "4         12  says: west side of Haiti, rest of the country ...\n",
       "...      ...                                                ...\n",
       "26243  30261  The training demonstrated how to enhance micro...\n",
       "26244  30262  A suitable candidate has been selected and OCH...\n",
       "26245  30263  Proshika, operating in Cox's Bazar municipalit...\n",
       "26246  30264  Some 2,000 women protesting against the conduc...\n",
       "26247  30265  A radical shift in thinking came about as a re...\n",
       "\n",
       "[26180 rows x 2 columns]"
      ]
     },
     "execution_count": 30,
     "metadata": {},
     "output_type": "execute_result"
    }
   ],
   "source": [
    "clean_messages_df = messages_df.drop_duplicates()\n",
    "clean_messages_df = clean_messages_df[['id', 'message']]\n",
    "clean_messages_df"
   ]
  },
  {
   "cell_type": "markdown",
   "metadata": {},
   "source": [
    "### Categories"
   ]
  },
  {
   "cell_type": "code",
   "execution_count": 31,
   "metadata": {},
   "outputs": [
    {
     "data": {
      "text/html": [
       "<div>\n",
       "<style scoped>\n",
       "    .dataframe tbody tr th:only-of-type {\n",
       "        vertical-align: middle;\n",
       "    }\n",
       "\n",
       "    .dataframe tbody tr th {\n",
       "        vertical-align: top;\n",
       "    }\n",
       "\n",
       "    .dataframe thead th {\n",
       "        text-align: right;\n",
       "    }\n",
       "</style>\n",
       "<table border=\"1\" class=\"dataframe\">\n",
       "  <thead>\n",
       "    <tr style=\"text-align: right;\">\n",
       "      <th></th>\n",
       "      <th>id</th>\n",
       "      <th>categories</th>\n",
       "    </tr>\n",
       "  </thead>\n",
       "  <tbody>\n",
       "    <tr>\n",
       "      <th>0</th>\n",
       "      <td>2</td>\n",
       "      <td>related-1;request-0;offer-0;aid_related-0;medi...</td>\n",
       "    </tr>\n",
       "    <tr>\n",
       "      <th>1</th>\n",
       "      <td>7</td>\n",
       "      <td>related-1;request-0;offer-0;aid_related-1;medi...</td>\n",
       "    </tr>\n",
       "    <tr>\n",
       "      <th>2</th>\n",
       "      <td>8</td>\n",
       "      <td>related-1;request-0;offer-0;aid_related-0;medi...</td>\n",
       "    </tr>\n",
       "    <tr>\n",
       "      <th>3</th>\n",
       "      <td>9</td>\n",
       "      <td>related-1;request-1;offer-0;aid_related-1;medi...</td>\n",
       "    </tr>\n",
       "    <tr>\n",
       "      <th>4</th>\n",
       "      <td>12</td>\n",
       "      <td>related-1;request-0;offer-0;aid_related-0;medi...</td>\n",
       "    </tr>\n",
       "  </tbody>\n",
       "</table>\n",
       "</div>"
      ],
      "text/plain": [
       "   id                                         categories\n",
       "0   2  related-1;request-0;offer-0;aid_related-0;medi...\n",
       "1   7  related-1;request-0;offer-0;aid_related-1;medi...\n",
       "2   8  related-1;request-0;offer-0;aid_related-0;medi...\n",
       "3   9  related-1;request-1;offer-0;aid_related-1;medi...\n",
       "4  12  related-1;request-0;offer-0;aid_related-0;medi..."
      ]
     },
     "execution_count": 31,
     "metadata": {},
     "output_type": "execute_result"
    }
   ],
   "source": [
    "clean_categories_df = categories_df.drop_duplicates()\n",
    "clean_categories_df = clean_categories_df[['id', 'categories']]\n",
    "clean_categories_df.head()"
   ]
  },
  {
   "cell_type": "markdown",
   "metadata": {},
   "source": [
    "## Clean data"
   ]
  },
  {
   "cell_type": "markdown",
   "metadata": {},
   "source": [
    "### Messages"
   ]
  },
  {
   "cell_type": "markdown",
   "metadata": {},
   "source": [
    "### Categories"
   ]
  },
  {
   "cell_type": "code",
   "execution_count": 32,
   "metadata": {},
   "outputs": [
    {
     "name": "stdout",
     "output_type": "stream",
     "text": [
      "<class 'pandas.core.frame.DataFrame'>\n",
      "Int64Index: 26216 entries, 0 to 26247\n",
      "Data columns (total 36 columns):\n",
      "related                   26216 non-null int8\n",
      "request                   26216 non-null int8\n",
      "offer                     26216 non-null int8\n",
      "aid_related               26216 non-null int8\n",
      "medical_help              26216 non-null int8\n",
      "medical_products          26216 non-null int8\n",
      "search_and_rescue         26216 non-null int8\n",
      "security                  26216 non-null int8\n",
      "military                  26216 non-null int8\n",
      "child_alone               26216 non-null int8\n",
      "water                     26216 non-null int8\n",
      "food                      26216 non-null int8\n",
      "shelter                   26216 non-null int8\n",
      "clothing                  26216 non-null int8\n",
      "money                     26216 non-null int8\n",
      "missing_people            26216 non-null int8\n",
      "refugees                  26216 non-null int8\n",
      "death                     26216 non-null int8\n",
      "other_aid                 26216 non-null int8\n",
      "infrastructure_related    26216 non-null int8\n",
      "transport                 26216 non-null int8\n",
      "buildings                 26216 non-null int8\n",
      "electricity               26216 non-null int8\n",
      "tools                     26216 non-null int8\n",
      "hospitals                 26216 non-null int8\n",
      "shops                     26216 non-null int8\n",
      "aid_centers               26216 non-null int8\n",
      "other_infrastructure      26216 non-null int8\n",
      "weather_related           26216 non-null int8\n",
      "floods                    26216 non-null int8\n",
      "storm                     26216 non-null int8\n",
      "fire                      26216 non-null int8\n",
      "earthquake                26216 non-null int8\n",
      "cold                      26216 non-null int8\n",
      "other_weather             26216 non-null int8\n",
      "direct_report             26216 non-null int8\n",
      "dtypes: int8(36)\n",
      "memory usage: 1.1 MB\n"
     ]
    }
   ],
   "source": [
    "parsed_categories = clean_categories_df['categories'].str.split(';|-')\n",
    "parsed_categories_df = parsed_categories.str[1::2].apply(pd.Series)\n",
    "parsed_categories_df = parsed_categories_df.astype('int8')\n",
    "parsed_categories_df.columns = parsed_categories.str[0::2].iloc[0]\n",
    "parsed_categories_df.info()"
   ]
  },
  {
   "cell_type": "code",
   "execution_count": 33,
   "metadata": {},
   "outputs": [
    {
     "data": {
      "text/html": [
       "<div>\n",
       "<style scoped>\n",
       "    .dataframe tbody tr th:only-of-type {\n",
       "        vertical-align: middle;\n",
       "    }\n",
       "\n",
       "    .dataframe tbody tr th {\n",
       "        vertical-align: top;\n",
       "    }\n",
       "\n",
       "    .dataframe thead th {\n",
       "        text-align: right;\n",
       "    }\n",
       "</style>\n",
       "<table border=\"1\" class=\"dataframe\">\n",
       "  <thead>\n",
       "    <tr style=\"text-align: right;\">\n",
       "      <th></th>\n",
       "      <th>0</th>\n",
       "      <th>1</th>\n",
       "      <th>2</th>\n",
       "    </tr>\n",
       "  </thead>\n",
       "  <tbody>\n",
       "    <tr>\n",
       "      <th>related</th>\n",
       "      <td>6122.0</td>\n",
       "      <td>19906.0</td>\n",
       "      <td>188.0</td>\n",
       "    </tr>\n",
       "    <tr>\n",
       "      <th>request</th>\n",
       "      <td>21742.0</td>\n",
       "      <td>4474.0</td>\n",
       "      <td>NaN</td>\n",
       "    </tr>\n",
       "    <tr>\n",
       "      <th>offer</th>\n",
       "      <td>26098.0</td>\n",
       "      <td>118.0</td>\n",
       "      <td>NaN</td>\n",
       "    </tr>\n",
       "    <tr>\n",
       "      <th>aid_related</th>\n",
       "      <td>15356.0</td>\n",
       "      <td>10860.0</td>\n",
       "      <td>NaN</td>\n",
       "    </tr>\n",
       "    <tr>\n",
       "      <th>medical_help</th>\n",
       "      <td>24132.0</td>\n",
       "      <td>2084.0</td>\n",
       "      <td>NaN</td>\n",
       "    </tr>\n",
       "    <tr>\n",
       "      <th>medical_products</th>\n",
       "      <td>24903.0</td>\n",
       "      <td>1313.0</td>\n",
       "      <td>NaN</td>\n",
       "    </tr>\n",
       "    <tr>\n",
       "      <th>search_and_rescue</th>\n",
       "      <td>25492.0</td>\n",
       "      <td>724.0</td>\n",
       "      <td>NaN</td>\n",
       "    </tr>\n",
       "    <tr>\n",
       "      <th>security</th>\n",
       "      <td>25745.0</td>\n",
       "      <td>471.0</td>\n",
       "      <td>NaN</td>\n",
       "    </tr>\n",
       "    <tr>\n",
       "      <th>military</th>\n",
       "      <td>25356.0</td>\n",
       "      <td>860.0</td>\n",
       "      <td>NaN</td>\n",
       "    </tr>\n",
       "    <tr>\n",
       "      <th>child_alone</th>\n",
       "      <td>26216.0</td>\n",
       "      <td>NaN</td>\n",
       "      <td>NaN</td>\n",
       "    </tr>\n",
       "    <tr>\n",
       "      <th>water</th>\n",
       "      <td>24544.0</td>\n",
       "      <td>1672.0</td>\n",
       "      <td>NaN</td>\n",
       "    </tr>\n",
       "    <tr>\n",
       "      <th>food</th>\n",
       "      <td>23293.0</td>\n",
       "      <td>2923.0</td>\n",
       "      <td>NaN</td>\n",
       "    </tr>\n",
       "    <tr>\n",
       "      <th>shelter</th>\n",
       "      <td>23902.0</td>\n",
       "      <td>2314.0</td>\n",
       "      <td>NaN</td>\n",
       "    </tr>\n",
       "    <tr>\n",
       "      <th>clothing</th>\n",
       "      <td>25811.0</td>\n",
       "      <td>405.0</td>\n",
       "      <td>NaN</td>\n",
       "    </tr>\n",
       "    <tr>\n",
       "      <th>money</th>\n",
       "      <td>25612.0</td>\n",
       "      <td>604.0</td>\n",
       "      <td>NaN</td>\n",
       "    </tr>\n",
       "    <tr>\n",
       "      <th>missing_people</th>\n",
       "      <td>25918.0</td>\n",
       "      <td>298.0</td>\n",
       "      <td>NaN</td>\n",
       "    </tr>\n",
       "    <tr>\n",
       "      <th>refugees</th>\n",
       "      <td>25341.0</td>\n",
       "      <td>875.0</td>\n",
       "      <td>NaN</td>\n",
       "    </tr>\n",
       "    <tr>\n",
       "      <th>death</th>\n",
       "      <td>25022.0</td>\n",
       "      <td>1194.0</td>\n",
       "      <td>NaN</td>\n",
       "    </tr>\n",
       "    <tr>\n",
       "      <th>other_aid</th>\n",
       "      <td>22770.0</td>\n",
       "      <td>3446.0</td>\n",
       "      <td>NaN</td>\n",
       "    </tr>\n",
       "    <tr>\n",
       "      <th>infrastructure_related</th>\n",
       "      <td>24511.0</td>\n",
       "      <td>1705.0</td>\n",
       "      <td>NaN</td>\n",
       "    </tr>\n",
       "    <tr>\n",
       "      <th>transport</th>\n",
       "      <td>25015.0</td>\n",
       "      <td>1201.0</td>\n",
       "      <td>NaN</td>\n",
       "    </tr>\n",
       "    <tr>\n",
       "      <th>buildings</th>\n",
       "      <td>24883.0</td>\n",
       "      <td>1333.0</td>\n",
       "      <td>NaN</td>\n",
       "    </tr>\n",
       "    <tr>\n",
       "      <th>electricity</th>\n",
       "      <td>25684.0</td>\n",
       "      <td>532.0</td>\n",
       "      <td>NaN</td>\n",
       "    </tr>\n",
       "    <tr>\n",
       "      <th>tools</th>\n",
       "      <td>26057.0</td>\n",
       "      <td>159.0</td>\n",
       "      <td>NaN</td>\n",
       "    </tr>\n",
       "    <tr>\n",
       "      <th>hospitals</th>\n",
       "      <td>25933.0</td>\n",
       "      <td>283.0</td>\n",
       "      <td>NaN</td>\n",
       "    </tr>\n",
       "    <tr>\n",
       "      <th>shops</th>\n",
       "      <td>26096.0</td>\n",
       "      <td>120.0</td>\n",
       "      <td>NaN</td>\n",
       "    </tr>\n",
       "    <tr>\n",
       "      <th>aid_centers</th>\n",
       "      <td>25907.0</td>\n",
       "      <td>309.0</td>\n",
       "      <td>NaN</td>\n",
       "    </tr>\n",
       "    <tr>\n",
       "      <th>other_infrastructure</th>\n",
       "      <td>25065.0</td>\n",
       "      <td>1151.0</td>\n",
       "      <td>NaN</td>\n",
       "    </tr>\n",
       "    <tr>\n",
       "      <th>weather_related</th>\n",
       "      <td>18919.0</td>\n",
       "      <td>7297.0</td>\n",
       "      <td>NaN</td>\n",
       "    </tr>\n",
       "    <tr>\n",
       "      <th>floods</th>\n",
       "      <td>24061.0</td>\n",
       "      <td>2155.0</td>\n",
       "      <td>NaN</td>\n",
       "    </tr>\n",
       "    <tr>\n",
       "      <th>storm</th>\n",
       "      <td>23773.0</td>\n",
       "      <td>2443.0</td>\n",
       "      <td>NaN</td>\n",
       "    </tr>\n",
       "    <tr>\n",
       "      <th>fire</th>\n",
       "      <td>25934.0</td>\n",
       "      <td>282.0</td>\n",
       "      <td>NaN</td>\n",
       "    </tr>\n",
       "    <tr>\n",
       "      <th>earthquake</th>\n",
       "      <td>23761.0</td>\n",
       "      <td>2455.0</td>\n",
       "      <td>NaN</td>\n",
       "    </tr>\n",
       "    <tr>\n",
       "      <th>cold</th>\n",
       "      <td>25686.0</td>\n",
       "      <td>530.0</td>\n",
       "      <td>NaN</td>\n",
       "    </tr>\n",
       "    <tr>\n",
       "      <th>other_weather</th>\n",
       "      <td>24840.0</td>\n",
       "      <td>1376.0</td>\n",
       "      <td>NaN</td>\n",
       "    </tr>\n",
       "    <tr>\n",
       "      <th>direct_report</th>\n",
       "      <td>21141.0</td>\n",
       "      <td>5075.0</td>\n",
       "      <td>NaN</td>\n",
       "    </tr>\n",
       "  </tbody>\n",
       "</table>\n",
       "</div>"
      ],
      "text/plain": [
       "                              0        1      2\n",
       "related                  6122.0  19906.0  188.0\n",
       "request                 21742.0   4474.0    NaN\n",
       "offer                   26098.0    118.0    NaN\n",
       "aid_related             15356.0  10860.0    NaN\n",
       "medical_help            24132.0   2084.0    NaN\n",
       "medical_products        24903.0   1313.0    NaN\n",
       "search_and_rescue       25492.0    724.0    NaN\n",
       "security                25745.0    471.0    NaN\n",
       "military                25356.0    860.0    NaN\n",
       "child_alone             26216.0      NaN    NaN\n",
       "water                   24544.0   1672.0    NaN\n",
       "food                    23293.0   2923.0    NaN\n",
       "shelter                 23902.0   2314.0    NaN\n",
       "clothing                25811.0    405.0    NaN\n",
       "money                   25612.0    604.0    NaN\n",
       "missing_people          25918.0    298.0    NaN\n",
       "refugees                25341.0    875.0    NaN\n",
       "death                   25022.0   1194.0    NaN\n",
       "other_aid               22770.0   3446.0    NaN\n",
       "infrastructure_related  24511.0   1705.0    NaN\n",
       "transport               25015.0   1201.0    NaN\n",
       "buildings               24883.0   1333.0    NaN\n",
       "electricity             25684.0    532.0    NaN\n",
       "tools                   26057.0    159.0    NaN\n",
       "hospitals               25933.0    283.0    NaN\n",
       "shops                   26096.0    120.0    NaN\n",
       "aid_centers             25907.0    309.0    NaN\n",
       "other_infrastructure    25065.0   1151.0    NaN\n",
       "weather_related         18919.0   7297.0    NaN\n",
       "floods                  24061.0   2155.0    NaN\n",
       "storm                   23773.0   2443.0    NaN\n",
       "fire                    25934.0    282.0    NaN\n",
       "earthquake              23761.0   2455.0    NaN\n",
       "cold                    25686.0    530.0    NaN\n",
       "other_weather           24840.0   1376.0    NaN\n",
       "direct_report           21141.0   5075.0    NaN"
      ]
     },
     "execution_count": 33,
     "metadata": {},
     "output_type": "execute_result"
    }
   ],
   "source": [
    "clean_categories_df = clean_categories_df.drop('categories', axis=1)\n",
    "clean_categories_df = pd.concat([clean_categories_df, parsed_categories_df], axis=1)\n",
    "clean_categories_df.loc[:, 'related':].apply(pd.value_counts).T"
   ]
  },
  {
   "cell_type": "code",
   "execution_count": 34,
   "metadata": {},
   "outputs": [
    {
     "data": {
      "text/html": [
       "<div>\n",
       "<style scoped>\n",
       "    .dataframe tbody tr th:only-of-type {\n",
       "        vertical-align: middle;\n",
       "    }\n",
       "\n",
       "    .dataframe tbody tr th {\n",
       "        vertical-align: top;\n",
       "    }\n",
       "\n",
       "    .dataframe thead th {\n",
       "        text-align: right;\n",
       "    }\n",
       "</style>\n",
       "<table border=\"1\" class=\"dataframe\">\n",
       "  <thead>\n",
       "    <tr style=\"text-align: right;\">\n",
       "      <th></th>\n",
       "      <th>0</th>\n",
       "      <th>1</th>\n",
       "    </tr>\n",
       "  </thead>\n",
       "  <tbody>\n",
       "    <tr>\n",
       "      <th>related</th>\n",
       "      <td>6310</td>\n",
       "      <td>19906</td>\n",
       "    </tr>\n",
       "    <tr>\n",
       "      <th>request</th>\n",
       "      <td>21742</td>\n",
       "      <td>4474</td>\n",
       "    </tr>\n",
       "    <tr>\n",
       "      <th>offer</th>\n",
       "      <td>26098</td>\n",
       "      <td>118</td>\n",
       "    </tr>\n",
       "    <tr>\n",
       "      <th>aid_related</th>\n",
       "      <td>15356</td>\n",
       "      <td>10860</td>\n",
       "    </tr>\n",
       "    <tr>\n",
       "      <th>medical_help</th>\n",
       "      <td>24132</td>\n",
       "      <td>2084</td>\n",
       "    </tr>\n",
       "    <tr>\n",
       "      <th>medical_products</th>\n",
       "      <td>24903</td>\n",
       "      <td>1313</td>\n",
       "    </tr>\n",
       "    <tr>\n",
       "      <th>search_and_rescue</th>\n",
       "      <td>25492</td>\n",
       "      <td>724</td>\n",
       "    </tr>\n",
       "    <tr>\n",
       "      <th>security</th>\n",
       "      <td>25745</td>\n",
       "      <td>471</td>\n",
       "    </tr>\n",
       "    <tr>\n",
       "      <th>military</th>\n",
       "      <td>25356</td>\n",
       "      <td>860</td>\n",
       "    </tr>\n",
       "    <tr>\n",
       "      <th>water</th>\n",
       "      <td>24544</td>\n",
       "      <td>1672</td>\n",
       "    </tr>\n",
       "    <tr>\n",
       "      <th>food</th>\n",
       "      <td>23293</td>\n",
       "      <td>2923</td>\n",
       "    </tr>\n",
       "    <tr>\n",
       "      <th>shelter</th>\n",
       "      <td>23902</td>\n",
       "      <td>2314</td>\n",
       "    </tr>\n",
       "    <tr>\n",
       "      <th>clothing</th>\n",
       "      <td>25811</td>\n",
       "      <td>405</td>\n",
       "    </tr>\n",
       "    <tr>\n",
       "      <th>money</th>\n",
       "      <td>25612</td>\n",
       "      <td>604</td>\n",
       "    </tr>\n",
       "    <tr>\n",
       "      <th>missing_people</th>\n",
       "      <td>25918</td>\n",
       "      <td>298</td>\n",
       "    </tr>\n",
       "    <tr>\n",
       "      <th>refugees</th>\n",
       "      <td>25341</td>\n",
       "      <td>875</td>\n",
       "    </tr>\n",
       "    <tr>\n",
       "      <th>death</th>\n",
       "      <td>25022</td>\n",
       "      <td>1194</td>\n",
       "    </tr>\n",
       "    <tr>\n",
       "      <th>other_aid</th>\n",
       "      <td>22770</td>\n",
       "      <td>3446</td>\n",
       "    </tr>\n",
       "    <tr>\n",
       "      <th>infrastructure_related</th>\n",
       "      <td>24511</td>\n",
       "      <td>1705</td>\n",
       "    </tr>\n",
       "    <tr>\n",
       "      <th>transport</th>\n",
       "      <td>25015</td>\n",
       "      <td>1201</td>\n",
       "    </tr>\n",
       "    <tr>\n",
       "      <th>buildings</th>\n",
       "      <td>24883</td>\n",
       "      <td>1333</td>\n",
       "    </tr>\n",
       "    <tr>\n",
       "      <th>electricity</th>\n",
       "      <td>25684</td>\n",
       "      <td>532</td>\n",
       "    </tr>\n",
       "    <tr>\n",
       "      <th>tools</th>\n",
       "      <td>26057</td>\n",
       "      <td>159</td>\n",
       "    </tr>\n",
       "    <tr>\n",
       "      <th>hospitals</th>\n",
       "      <td>25933</td>\n",
       "      <td>283</td>\n",
       "    </tr>\n",
       "    <tr>\n",
       "      <th>shops</th>\n",
       "      <td>26096</td>\n",
       "      <td>120</td>\n",
       "    </tr>\n",
       "    <tr>\n",
       "      <th>aid_centers</th>\n",
       "      <td>25907</td>\n",
       "      <td>309</td>\n",
       "    </tr>\n",
       "    <tr>\n",
       "      <th>other_infrastructure</th>\n",
       "      <td>25065</td>\n",
       "      <td>1151</td>\n",
       "    </tr>\n",
       "    <tr>\n",
       "      <th>weather_related</th>\n",
       "      <td>18919</td>\n",
       "      <td>7297</td>\n",
       "    </tr>\n",
       "    <tr>\n",
       "      <th>floods</th>\n",
       "      <td>24061</td>\n",
       "      <td>2155</td>\n",
       "    </tr>\n",
       "    <tr>\n",
       "      <th>storm</th>\n",
       "      <td>23773</td>\n",
       "      <td>2443</td>\n",
       "    </tr>\n",
       "    <tr>\n",
       "      <th>fire</th>\n",
       "      <td>25934</td>\n",
       "      <td>282</td>\n",
       "    </tr>\n",
       "    <tr>\n",
       "      <th>earthquake</th>\n",
       "      <td>23761</td>\n",
       "      <td>2455</td>\n",
       "    </tr>\n",
       "    <tr>\n",
       "      <th>cold</th>\n",
       "      <td>25686</td>\n",
       "      <td>530</td>\n",
       "    </tr>\n",
       "    <tr>\n",
       "      <th>other_weather</th>\n",
       "      <td>24840</td>\n",
       "      <td>1376</td>\n",
       "    </tr>\n",
       "    <tr>\n",
       "      <th>direct_report</th>\n",
       "      <td>21141</td>\n",
       "      <td>5075</td>\n",
       "    </tr>\n",
       "  </tbody>\n",
       "</table>\n",
       "</div>"
      ],
      "text/plain": [
       "                            0      1\n",
       "related                  6310  19906\n",
       "request                 21742   4474\n",
       "offer                   26098    118\n",
       "aid_related             15356  10860\n",
       "medical_help            24132   2084\n",
       "medical_products        24903   1313\n",
       "search_and_rescue       25492    724\n",
       "security                25745    471\n",
       "military                25356    860\n",
       "water                   24544   1672\n",
       "food                    23293   2923\n",
       "shelter                 23902   2314\n",
       "clothing                25811    405\n",
       "money                   25612    604\n",
       "missing_people          25918    298\n",
       "refugees                25341    875\n",
       "death                   25022   1194\n",
       "other_aid               22770   3446\n",
       "infrastructure_related  24511   1705\n",
       "transport               25015   1201\n",
       "buildings               24883   1333\n",
       "electricity             25684    532\n",
       "tools                   26057    159\n",
       "hospitals               25933    283\n",
       "shops                   26096    120\n",
       "aid_centers             25907    309\n",
       "other_infrastructure    25065   1151\n",
       "weather_related         18919   7297\n",
       "floods                  24061   2155\n",
       "storm                   23773   2443\n",
       "fire                    25934    282\n",
       "earthquake              23761   2455\n",
       "cold                    25686    530\n",
       "other_weather           24840   1376\n",
       "direct_report           21141   5075"
      ]
     },
     "execution_count": 34,
     "metadata": {},
     "output_type": "execute_result"
    }
   ],
   "source": [
    "related_map = {0: 0, 1: 1, 2: 0}\n",
    "\n",
    "clean_categories_df = clean_categories_df.drop('child_alone', axis=1)\n",
    "clean_categories_df['related'] = clean_categories_df['related'].map(related_map).astype('int8')\n",
    "clean_categories_df.loc[:, 'related':].apply(pd.value_counts).T"
   ]
  },
  {
   "cell_type": "markdown",
   "metadata": {},
   "source": [
    "## Integrate data"
   ]
  },
  {
   "cell_type": "code",
   "execution_count": 35,
   "metadata": {},
   "outputs": [
    {
     "name": "stdout",
     "output_type": "stream",
     "text": [
      "<class 'pandas.core.frame.DataFrame'>\n",
      "Int64Index: 26216 entries, 0 to 26215\n",
      "Data columns (total 37 columns):\n",
      "id                        26216 non-null int64\n",
      "message                   26216 non-null object\n",
      "related                   26216 non-null int8\n",
      "request                   26216 non-null int8\n",
      "offer                     26216 non-null int8\n",
      "aid_related               26216 non-null int8\n",
      "medical_help              26216 non-null int8\n",
      "medical_products          26216 non-null int8\n",
      "search_and_rescue         26216 non-null int8\n",
      "security                  26216 non-null int8\n",
      "military                  26216 non-null int8\n",
      "water                     26216 non-null int8\n",
      "food                      26216 non-null int8\n",
      "shelter                   26216 non-null int8\n",
      "clothing                  26216 non-null int8\n",
      "money                     26216 non-null int8\n",
      "missing_people            26216 non-null int8\n",
      "refugees                  26216 non-null int8\n",
      "death                     26216 non-null int8\n",
      "other_aid                 26216 non-null int8\n",
      "infrastructure_related    26216 non-null int8\n",
      "transport                 26216 non-null int8\n",
      "buildings                 26216 non-null int8\n",
      "electricity               26216 non-null int8\n",
      "tools                     26216 non-null int8\n",
      "hospitals                 26216 non-null int8\n",
      "shops                     26216 non-null int8\n",
      "aid_centers               26216 non-null int8\n",
      "other_infrastructure      26216 non-null int8\n",
      "weather_related           26216 non-null int8\n",
      "floods                    26216 non-null int8\n",
      "storm                     26216 non-null int8\n",
      "fire                      26216 non-null int8\n",
      "earthquake                26216 non-null int8\n",
      "cold                      26216 non-null int8\n",
      "other_weather             26216 non-null int8\n",
      "direct_report             26216 non-null int8\n",
      "dtypes: int64(1), int8(35), object(1)\n",
      "memory usage: 1.5+ MB\n"
     ]
    }
   ],
   "source": [
    "clean_df = clean_messages_df.merge(clean_categories_df, how='inner', on='id')\n",
    "clean_df.info()"
   ]
  },
  {
   "cell_type": "markdown",
   "metadata": {},
   "source": [
    "# Data Understanding"
   ]
  },
  {
   "cell_type": "markdown",
   "metadata": {},
   "source": [
    "## Explore data"
   ]
  },
  {
   "cell_type": "code",
   "execution_count": 36,
   "metadata": {},
   "outputs": [
    {
     "data": {
      "text/plain": [
       "<seaborn.matrix.ClusterGrid at 0x7fe709525f28>"
      ]
     },
     "execution_count": 36,
     "metadata": {},
     "output_type": "execute_result"
    },
    {
     "data": {
      "image/png": "[encoded data removed]",
      "text/plain": [
       "<Figure size 720x720 with 4 Axes>"
      ]
     },
     "metadata": {
      "needs_background": "light"
     },
     "output_type": "display_data"
    }
   ],
   "source": [
    "sns.clustermap(clean_df.loc[:, 'related':'direct_report'].corr())"
   ]
  },
  {
   "cell_type": "code",
   "execution_count": 37,
   "metadata": {},
   "outputs": [
    {
     "data": {
      "text/plain": [
       "related\n",
       "0        0\n",
       "1    63041\n",
       "dtype: int64"
      ]
     },
     "execution_count": 37,
     "metadata": {},
     "output_type": "execute_result"
    }
   ],
   "source": [
    "clean_df.groupby('related').apply(lambda x: x.loc[:, 'request':].sum()).sum(axis=1)"
   ]
  },
  {
   "cell_type": "code",
   "execution_count": 38,
   "metadata": {},
   "outputs": [
    {
     "data": {
      "text/plain": [
       "other_aid  related  aid_related\n",
       "0          0        0              6310\n",
       "           1        0              9046\n",
       "                    1              7414\n",
       "1          1        1              3446\n",
       "Name: id, dtype: int64"
      ]
     },
     "execution_count": 38,
     "metadata": {},
     "output_type": "execute_result"
    }
   ],
   "source": [
    "clean_df.groupby(['other_aid', 'related', 'aid_related'])['id'].count()"
   ]
  },
  {
   "cell_type": "code",
   "execution_count": 39,
   "metadata": {},
   "outputs": [
    {
     "data": {
      "text/plain": [
       "request  direct_report\n",
       "0        0                20058\n",
       "         1                 1684\n",
       "1        0                 1083\n",
       "         1                 3391\n",
       "Name: id, dtype: int64"
      ]
     },
     "execution_count": 39,
     "metadata": {},
     "output_type": "execute_result"
    }
   ],
   "source": [
    "clean_df.groupby(['request', 'direct_report'])['id'].count()"
   ]
  },
  {
   "cell_type": "code",
   "execution_count": 40,
   "metadata": {},
   "outputs": [
    {
     "data": {
      "text/plain": [
       "medical_help  medical_products  aid_related\n",
       "0             0                 0              15356\n",
       "                                1               8095\n",
       "              1                 1                681\n",
       "1             0                 1               1452\n",
       "              1                 1                632\n",
       "Name: id, dtype: int64"
      ]
     },
     "execution_count": 40,
     "metadata": {},
     "output_type": "execute_result"
    }
   ],
   "source": [
    "clean_df.groupby(['medical_help', 'medical_products', 'aid_related'])['id'].count()"
   ]
  },
  {
   "cell_type": "code",
   "execution_count": 41,
   "metadata": {},
   "outputs": [
    {
     "data": {
      "text/plain": [
       "hospitals  aid_centers  infrastructure_related\n",
       "0          0            0                         24511\n",
       "                        1                          1156\n",
       "           1            1                           266\n",
       "1          0            1                           240\n",
       "           1            1                            43\n",
       "Name: id, dtype: int64"
      ]
     },
     "execution_count": 41,
     "metadata": {},
     "output_type": "execute_result"
    }
   ],
   "source": [
    "clean_df.groupby(['hospitals', 'aid_centers', 'infrastructure_related'])['id'].count()"
   ]
  },
  {
   "cell_type": "code",
   "execution_count": 42,
   "metadata": {},
   "outputs": [
    {
     "data": {
      "text/plain": [
       "infrastructure_related  other_infrastructure\n",
       "0                       0                       24511\n",
       "1                       0                         554\n",
       "                        1                        1151\n",
       "Name: id, dtype: int64"
      ]
     },
     "execution_count": 42,
     "metadata": {},
     "output_type": "execute_result"
    }
   ],
   "source": [
    "clean_df.groupby(['infrastructure_related', 'other_infrastructure'])['id'].count()"
   ]
  },
  {
   "cell_type": "code",
   "execution_count": 43,
   "metadata": {},
   "outputs": [
    {
     "data": {
      "text/plain": [
       "other_weather  weather_related\n",
       "0              0                  18919\n",
       "               1                   5921\n",
       "1              1                   1376\n",
       "Name: id, dtype: int64"
      ]
     },
     "execution_count": 43,
     "metadata": {},
     "output_type": "execute_result"
    }
   ],
   "source": [
    "clean_df.groupby(['other_weather', 'weather_related'])['id'].count()"
   ]
  },
  {
   "cell_type": "code",
   "execution_count": 44,
   "metadata": {},
   "outputs": [
    {
     "data": {
      "text/plain": [
       "transport  floods\n",
       "0          0         23557\n",
       "           1          1458\n",
       "1          0           504\n",
       "           1           697\n",
       "Name: id, dtype: int64"
      ]
     },
     "execution_count": 44,
     "metadata": {},
     "output_type": "execute_result"
    }
   ],
   "source": [
    "clean_df.groupby(['transport', 'floods'])['id'].count()"
   ]
  },
  {
   "cell_type": "markdown",
   "metadata": {},
   "source": [
    "**Rules**\n",
    "- child_alone = 0\n",
    "- related = 0 => all another classes == 0\n",
    "- other_aid = 1 => related = 1, aid_related = 1\n",
    "- medical_products = 1 => aid_related = 1\n",
    "- aid_centers = 1 => infrastructure_related = 1\n",
    "- infrastructure_related = 0 => other_infrastructure = 0\n",
    "- other_weather = 1 => weather_related = 1"
   ]
  },
  {
   "cell_type": "code",
   "execution_count": 45,
   "metadata": {},
   "outputs": [
    {
     "data": {
      "text/plain": [
       "<matplotlib.axes._subplots.AxesSubplot at 0x7fe70512b4a8>"
      ]
     },
     "execution_count": 45,
     "metadata": {},
     "output_type": "execute_result"
    },
    {
     "data": {
      "image/png": "[encoded data removed]",
      "text/plain": [
       "<Figure size 864x432 with 2 Axes>"
      ]
     },
     "metadata": {
      "needs_background": "light"
     },
     "output_type": "display_data"
    }
   ],
   "source": [
    "fig, axes = plt.subplots(1, 2, figsize=(12, 6))\n",
    "\n",
    "class_count = clean_df.loc[:, 'related':'direct_report'].sum(axis=1)\n",
    "\n",
    "axes[0].set_title('Message Count')\n",
    "clean_df.groupby(class_count)['message'].count().sort_index(ascending=False).plot.barh(ax=axes[0])\n",
    "\n",
    "axes[1].set_title('Message Length')\n",
    "clean_df.groupby(class_count)['message'].apply(lambda x: x.str.len().median()).sort_index(ascending=False).plot.barh(ax=axes[1])"
   ]
  },
  {
   "cell_type": "code",
   "execution_count": 46,
   "metadata": {},
   "outputs": [
    {
     "data": {
      "text/plain": [
       "count    26216.000000\n",
       "mean         3.163984\n",
       "std          2.989600\n",
       "min          0.000000\n",
       "25%          1.000000\n",
       "50%          3.000000\n",
       "75%          5.000000\n",
       "max         27.000000\n",
       "dtype: float64"
      ]
     },
     "execution_count": 46,
     "metadata": {},
     "output_type": "execute_result"
    }
   ],
   "source": [
    "class_count.describe()"
   ]
  },
  {
   "cell_type": "code",
   "execution_count": 47,
   "metadata": {},
   "outputs": [
    {
     "data": {
      "text/plain": [
       "<matplotlib.legend.Legend at 0x7fe7050b5438>"
      ]
     },
     "execution_count": 47,
     "metadata": {},
     "output_type": "execute_result"
    },
    {
     "data": {
      "image/png": "[encoded data removed]",
      "text/plain": [
       "<Figure size 576x576 with 1 Axes>"
      ]
     },
     "metadata": {
      "needs_background": "light"
     },
     "output_type": "display_data"
    }
   ],
   "source": [
    "melted_classes_df = pd.melt(clean_df.loc[:, 'related':'direct_report'], var_name='class_name')\n",
    "melted_classes_df.groupby('class_name').sum().sort_values('value', ascending=True).astype('int').plot.barh(figsize=(8, 8))\n",
    "plt.legend('')"
   ]
  },
  {
   "cell_type": "code",
   "execution_count": 48,
   "metadata": {},
   "outputs": [
    {
     "data": {
      "text/plain": [
       "<matplotlib.axes._subplots.AxesSubplot at 0x7fe7047122b0>"
      ]
     },
     "execution_count": 48,
     "metadata": {},
     "output_type": "execute_result"
    },
    {
     "data": {
      "image/png": "[encoded data removed]",
      "text/plain": [
       "<Figure size 576x432 with 1 Axes>"
      ]
     },
     "metadata": {
      "needs_background": "light"
     },
     "output_type": "display_data"
    }
   ],
   "source": [
    "sns.boxplot(melted_classes_df.groupby('class_name').sum().sort_values('value', ascending=True))"
   ]
  },
  {
   "cell_type": "code",
   "execution_count": 49,
   "metadata": {},
   "outputs": [
    {
     "data": {
      "text/plain": [
       "4002"
      ]
     },
     "execution_count": 49,
     "metadata": {},
     "output_type": "execute_result"
    }
   ],
   "source": [
    "clean_df.loc[:, 'related':'direct_report'].astype('str').apply(lambda x: ''.join(x), axis=1).nunique()"
   ]
  },
  {
   "cell_type": "markdown",
   "metadata": {},
   "source": [
    "# Data Preparation"
   ]
  },
  {
   "cell_type": "markdown",
   "metadata": {},
   "source": [
    "## Construct data"
   ]
  },
  {
   "cell_type": "code",
   "execution_count": 50,
   "metadata": {},
   "outputs": [],
   "source": [
    "clean_df['message_len'] = clean_df['message'].str.len()"
   ]
  },
  {
   "cell_type": "markdown",
   "metadata": {},
   "source": [
    "# Modeling"
   ]
  },
  {
   "cell_type": "code",
   "execution_count": 121,
   "metadata": {},
   "outputs": [],
   "source": [
    "from nltk.corpus import stopwords\n",
    "from nltk.tokenize import word_tokenize\n",
    "\n",
    "from sklearn.base import clone\n",
    "from sklearn.pipeline import Pipeline\n",
    "from sklearn.compose import ColumnTransformer\n",
    "from sklearn.model_selection import train_test_split, GridSearchCV, KFold, cross_val_score\n",
    "from sklearn.feature_extraction.text import TfidfVectorizer, CountVectorizer\n",
    "from sklearn.preprocessing import OneHotEncoder, PowerTransformer, StandardScaler, LabelEncoder\n",
    "\n",
    "from sklearn.metrics import classification_report, f1_score, precision_score, recall_score, accuracy_score, hamming_loss, make_scorer, jaccard_score\n",
    "\n",
    "from sklearn.multiclass import OneVsRestClassifier\n",
    "from sklearn.multioutput import MultiOutputClassifier, ClassifierChain\n",
    "\n",
    "from sklearn.dummy import DummyClassifier\n",
    "from sklearn.linear_model import LogisticRegression\n",
    "from sklearn.svm import LinearSVC, SVC\n",
    "from sklearn.naive_bayes import MultinomialNB\n",
    "from sklearn.ensemble import RandomForestClassifier, ExtraTreesClassifier\n",
    "from sklearn.neighbors import KNeighborsClassifier\n",
    "from sklearn.experimental import enable_hist_gradient_boosting\n",
    "from sklearn.ensemble import GradientBoostingClassifier, HistGradientBoostingClassifier"
   ]
  },
  {
   "cell_type": "code",
   "execution_count": 52,
   "metadata": {},
   "outputs": [],
   "source": [
    "from functools import partial, update_wrapper\n",
    "\n",
    "def wrapped_partial(func, *args, **kwargs):\n",
    "    partial_func = partial(func, *args, **kwargs)\n",
    "    update_wrapper(partial_func, func)\n",
    "    return partial_func"
   ]
  },
  {
   "cell_type": "code",
   "execution_count": 53,
   "metadata": {},
   "outputs": [
    {
     "data": {
      "text/plain": [
       "((26216, 38), (26216, 35))"
      ]
     },
     "execution_count": 53,
     "metadata": {},
     "output_type": "execute_result"
    }
   ],
   "source": [
    "X = clean_df\n",
    "Y = clean_df.loc[:, 'related':'direct_report']\n",
    "X.shape, Y.shape"
   ]
  },
  {
   "cell_type": "code",
   "execution_count": 54,
   "metadata": {},
   "outputs": [
    {
     "data": {
      "text/plain": [
       "((20972, 38), (5244, 38), (20972, 35), (5244, 35))"
      ]
     },
     "execution_count": 54,
     "metadata": {},
     "output_type": "execute_result"
    }
   ],
   "source": [
    "X_train, X_test, Y_train, Y_test = train_test_split(X, Y, test_size=0.2, random_state=RANDOM_STATE)\n",
    "X_train.shape, X_test.shape, Y_train.shape, Y_test.shape"
   ]
  },
  {
   "cell_type": "code",
   "execution_count": 55,
   "metadata": {},
   "outputs": [
    {
     "name": "stdout",
     "output_type": "stream",
     "text": [
      "0.004386801449551783\n"
     ]
    },
    {
     "data": {
      "text/html": [
       "<div>\n",
       "<style scoped>\n",
       "    .dataframe tbody tr th:only-of-type {\n",
       "        vertical-align: middle;\n",
       "    }\n",
       "\n",
       "    .dataframe tbody tr th {\n",
       "        vertical-align: top;\n",
       "    }\n",
       "\n",
       "    .dataframe thead th {\n",
       "        text-align: right;\n",
       "    }\n",
       "</style>\n",
       "<table border=\"1\" class=\"dataframe\">\n",
       "  <thead>\n",
       "    <tr style=\"text-align: right;\">\n",
       "      <th></th>\n",
       "      <th>related</th>\n",
       "      <th>request</th>\n",
       "      <th>offer</th>\n",
       "      <th>aid_related</th>\n",
       "      <th>medical_help</th>\n",
       "      <th>medical_products</th>\n",
       "      <th>search_and_rescue</th>\n",
       "      <th>security</th>\n",
       "      <th>military</th>\n",
       "      <th>water</th>\n",
       "      <th>...</th>\n",
       "      <th>aid_centers</th>\n",
       "      <th>other_infrastructure</th>\n",
       "      <th>weather_related</th>\n",
       "      <th>floods</th>\n",
       "      <th>storm</th>\n",
       "      <th>fire</th>\n",
       "      <th>earthquake</th>\n",
       "      <th>cold</th>\n",
       "      <th>other_weather</th>\n",
       "      <th>direct_report</th>\n",
       "    </tr>\n",
       "  </thead>\n",
       "  <tbody>\n",
       "    <tr>\n",
       "      <th>0</th>\n",
       "      <td>0.238604</td>\n",
       "      <td>0.829344</td>\n",
       "      <td>0.995613</td>\n",
       "      <td>0.583778</td>\n",
       "      <td>0.920751</td>\n",
       "      <td>0.950267</td>\n",
       "      <td>0.971533</td>\n",
       "      <td>0.981738</td>\n",
       "      <td>0.966384</td>\n",
       "      <td>0.936439</td>\n",
       "      <td>...</td>\n",
       "      <td>0.988461</td>\n",
       "      <td>0.955751</td>\n",
       "      <td>0.720628</td>\n",
       "      <td>0.916842</td>\n",
       "      <td>0.906685</td>\n",
       "      <td>0.989081</td>\n",
       "      <td>0.905731</td>\n",
       "      <td>0.980307</td>\n",
       "      <td>0.947549</td>\n",
       "      <td>0.806695</td>\n",
       "    </tr>\n",
       "    <tr>\n",
       "      <th>1</th>\n",
       "      <td>0.761396</td>\n",
       "      <td>0.170656</td>\n",
       "      <td>0.004387</td>\n",
       "      <td>0.416222</td>\n",
       "      <td>0.079249</td>\n",
       "      <td>0.049733</td>\n",
       "      <td>0.028467</td>\n",
       "      <td>0.018262</td>\n",
       "      <td>0.033616</td>\n",
       "      <td>0.063561</td>\n",
       "      <td>...</td>\n",
       "      <td>0.011539</td>\n",
       "      <td>0.044249</td>\n",
       "      <td>0.279372</td>\n",
       "      <td>0.083158</td>\n",
       "      <td>0.093315</td>\n",
       "      <td>0.010919</td>\n",
       "      <td>0.094269</td>\n",
       "      <td>0.019693</td>\n",
       "      <td>0.052451</td>\n",
       "      <td>0.193305</td>\n",
       "    </tr>\n",
       "  </tbody>\n",
       "</table>\n",
       "<p>2 rows × 35 columns</p>\n",
       "</div>"
      ],
      "text/plain": [
       "    related   request     offer  aid_related  medical_help  medical_products  \\\n",
       "0  0.238604  0.829344  0.995613     0.583778      0.920751          0.950267   \n",
       "1  0.761396  0.170656  0.004387     0.416222      0.079249          0.049733   \n",
       "\n",
       "   search_and_rescue  security  military     water  ...  aid_centers  \\\n",
       "0           0.971533  0.981738  0.966384  0.936439  ...     0.988461   \n",
       "1           0.028467  0.018262  0.033616  0.063561  ...     0.011539   \n",
       "\n",
       "   other_infrastructure  weather_related    floods     storm      fire  \\\n",
       "0              0.955751         0.720628  0.916842  0.906685  0.989081   \n",
       "1              0.044249         0.279372  0.083158  0.093315  0.010919   \n",
       "\n",
       "   earthquake      cold  other_weather  direct_report  \n",
       "0    0.905731  0.980307       0.947549       0.806695  \n",
       "1    0.094269  0.019693       0.052451       0.193305  \n",
       "\n",
       "[2 rows x 35 columns]"
      ]
     },
     "execution_count": 55,
     "metadata": {},
     "output_type": "execute_result"
    }
   ],
   "source": [
    "Y_train_props = Y_train.apply(pd.value_counts, normalize=True)\n",
    "print(Y_train_props.min().min())\n",
    "Y_train_props"
   ]
  },
  {
   "cell_type": "code",
   "execution_count": 56,
   "metadata": {},
   "outputs": [
    {
     "name": "stdout",
     "output_type": "stream",
     "text": [
      "0.004195270785659802\n"
     ]
    },
    {
     "data": {
      "text/html": [
       "<div>\n",
       "<style scoped>\n",
       "    .dataframe tbody tr th:only-of-type {\n",
       "        vertical-align: middle;\n",
       "    }\n",
       "\n",
       "    .dataframe tbody tr th {\n",
       "        vertical-align: top;\n",
       "    }\n",
       "\n",
       "    .dataframe thead th {\n",
       "        text-align: right;\n",
       "    }\n",
       "</style>\n",
       "<table border=\"1\" class=\"dataframe\">\n",
       "  <thead>\n",
       "    <tr style=\"text-align: right;\">\n",
       "      <th></th>\n",
       "      <th>related</th>\n",
       "      <th>request</th>\n",
       "      <th>offer</th>\n",
       "      <th>aid_related</th>\n",
       "      <th>medical_help</th>\n",
       "      <th>medical_products</th>\n",
       "      <th>search_and_rescue</th>\n",
       "      <th>security</th>\n",
       "      <th>military</th>\n",
       "      <th>water</th>\n",
       "      <th>...</th>\n",
       "      <th>aid_centers</th>\n",
       "      <th>other_infrastructure</th>\n",
       "      <th>weather_related</th>\n",
       "      <th>floods</th>\n",
       "      <th>storm</th>\n",
       "      <th>fire</th>\n",
       "      <th>earthquake</th>\n",
       "      <th>cold</th>\n",
       "      <th>other_weather</th>\n",
       "      <th>direct_report</th>\n",
       "    </tr>\n",
       "  </thead>\n",
       "  <tbody>\n",
       "    <tr>\n",
       "      <th>0</th>\n",
       "      <td>0.249047</td>\n",
       "      <td>0.829329</td>\n",
       "      <td>0.995042</td>\n",
       "      <td>0.593631</td>\n",
       "      <td>0.919527</td>\n",
       "      <td>0.948513</td>\n",
       "      <td>0.975782</td>\n",
       "      <td>0.983219</td>\n",
       "      <td>0.970442</td>\n",
       "      <td>0.935355</td>\n",
       "      <td>...</td>\n",
       "      <td>0.987223</td>\n",
       "      <td>0.957475</td>\n",
       "      <td>0.725782</td>\n",
       "      <td>0.921625</td>\n",
       "      <td>0.907323</td>\n",
       "      <td>0.989893</td>\n",
       "      <td>0.908848</td>\n",
       "      <td>0.977689</td>\n",
       "      <td>0.947368</td>\n",
       "      <td>0.805301</td>\n",
       "    </tr>\n",
       "    <tr>\n",
       "      <th>1</th>\n",
       "      <td>0.750953</td>\n",
       "      <td>0.170671</td>\n",
       "      <td>0.004958</td>\n",
       "      <td>0.406369</td>\n",
       "      <td>0.080473</td>\n",
       "      <td>0.051487</td>\n",
       "      <td>0.024218</td>\n",
       "      <td>0.016781</td>\n",
       "      <td>0.029558</td>\n",
       "      <td>0.064645</td>\n",
       "      <td>...</td>\n",
       "      <td>0.012777</td>\n",
       "      <td>0.042525</td>\n",
       "      <td>0.274218</td>\n",
       "      <td>0.078375</td>\n",
       "      <td>0.092677</td>\n",
       "      <td>0.010107</td>\n",
       "      <td>0.091152</td>\n",
       "      <td>0.022311</td>\n",
       "      <td>0.052632</td>\n",
       "      <td>0.194699</td>\n",
       "    </tr>\n",
       "  </tbody>\n",
       "</table>\n",
       "<p>2 rows × 35 columns</p>\n",
       "</div>"
      ],
      "text/plain": [
       "    related   request     offer  aid_related  medical_help  medical_products  \\\n",
       "0  0.249047  0.829329  0.995042     0.593631      0.919527          0.948513   \n",
       "1  0.750953  0.170671  0.004958     0.406369      0.080473          0.051487   \n",
       "\n",
       "   search_and_rescue  security  military     water  ...  aid_centers  \\\n",
       "0           0.975782  0.983219  0.970442  0.935355  ...     0.987223   \n",
       "1           0.024218  0.016781  0.029558  0.064645  ...     0.012777   \n",
       "\n",
       "   other_infrastructure  weather_related    floods     storm      fire  \\\n",
       "0              0.957475         0.725782  0.921625  0.907323  0.989893   \n",
       "1              0.042525         0.274218  0.078375  0.092677  0.010107   \n",
       "\n",
       "   earthquake      cold  other_weather  direct_report  \n",
       "0    0.908848  0.977689       0.947368       0.805301  \n",
       "1    0.091152  0.022311       0.052632       0.194699  \n",
       "\n",
       "[2 rows x 35 columns]"
      ]
     },
     "execution_count": 56,
     "metadata": {},
     "output_type": "execute_result"
    }
   ],
   "source": [
    "Y_test_props = Y_test.apply(pd.value_counts, normalize=True)\n",
    "print(Y_test_props.min().min())\n",
    "Y_test_props"
   ]
  },
  {
   "cell_type": "code",
   "execution_count": 57,
   "metadata": {},
   "outputs": [
    {
     "data": {
      "text/plain": [
       "0.010442676610839863"
      ]
     },
     "execution_count": 57,
     "metadata": {},
     "output_type": "execute_result"
    }
   ],
   "source": [
    "Y_props_diff = np.abs(Y_train_props - Y_test_props)\n",
    "Y_props_diff.max().max()"
   ]
  },
  {
   "cell_type": "code",
   "execution_count": 58,
   "metadata": {},
   "outputs": [],
   "source": [
    "text_col = 'message'\n",
    "text_pipe = Pipeline([\n",
    "    ('tfidf', TfidfVectorizer())\n",
    "])\n",
    "\n",
    "num_cols = ['message_len']\n",
    "num_pipe = Pipeline([\n",
    "    ('scale', PowerTransformer())\n",
    "])\n",
    "\n",
    "preproc_pipe = ColumnTransformer([\n",
    "    ('text', text_pipe, text_col),\n",
    "#     ('num', num_pipe, num_cols),\n",
    "], n_jobs=-1)\n",
    "\n",
    "pipe = Pipeline([\n",
    "    ('preprocess', preproc_pipe),\n",
    "    ('clf', DummyClassifier())\n",
    "])"
   ]
  },
  {
   "cell_type": "code",
   "execution_count": 98,
   "metadata": {},
   "outputs": [
    {
     "data": {
      "text/plain": [
       "<20972x31026 sparse matrix of type '<class 'numpy.float64'>'\n",
       "\twith 428204 stored elements in Compressed Sparse Row format>"
      ]
     },
     "execution_count": 98,
     "metadata": {},
     "output_type": "execute_result"
    }
   ],
   "source": [
    "preproc_pipe.fit_transform(X_train)"
   ]
  },
  {
   "cell_type": "code",
   "execution_count": 59,
   "metadata": {},
   "outputs": [],
   "source": [
    "average = 'samples'\n",
    "scoring = {\n",
    "    'f1': make_scorer(wrapped_partial(f1_score, average=average)),\n",
    "    'precision': make_scorer(wrapped_partial(precision_score, average=average)),\n",
    "    'recall': make_scorer(wrapped_partial(recall_score, average=average)),\n",
    "    'accuracy': make_scorer(accuracy_score),\n",
    "    'hamming_loss': make_scorer(hamming_loss),\n",
    "    'jaccard': make_scorer(jaccard_score, average=average)\n",
    "}"
   ]
  },
  {
   "cell_type": "code",
   "execution_count": 62,
   "metadata": {},
   "outputs": [
    {
     "name": "stdout",
     "output_type": "stream",
     "text": [
      "Fitting 3 folds for each of 6 candidates, totalling 18 fits\n"
     ]
    },
    {
     "name": "stderr",
     "output_type": "stream",
     "text": [
      "[Parallel(n_jobs=-1)]: Using backend LokyBackend with 8 concurrent workers.\n",
      "[Parallel(n_jobs=-1)]: Done  13 out of  18 | elapsed:   24.0s remaining:    9.2s\n",
      "[Parallel(n_jobs=-1)]: Done  18 out of  18 | elapsed:   34.6s finished\n"
     ]
    },
    {
     "data": {
      "text/plain": [
       "(0.5085011024361784,\n",
       " {'clf': MultiOutputClassifier(estimator=LogisticRegression(C=1.0, class_weight=None,\n",
       "                                                     dual=False,\n",
       "                                                     fit_intercept=True,\n",
       "                                                     intercept_scaling=1,\n",
       "                                                     l1_ratio=None, max_iter=100,\n",
       "                                                     multi_class='auto',\n",
       "                                                     n_jobs=None, penalty='l2',\n",
       "                                                     random_state=42,\n",
       "                                                     solver='lbfgs', tol=0.0001,\n",
       "                                                     verbose=0,\n",
       "                                                     warm_start=False),\n",
       "                        n_jobs=-1),\n",
       "  'clf__estimator': LogisticRegression(C=1.0, class_weight=None, dual=False, fit_intercept=True,\n",
       "                     intercept_scaling=1, l1_ratio=None, max_iter=100,\n",
       "                     multi_class='auto', n_jobs=None, penalty='l2',\n",
       "                     random_state=42, solver='lbfgs', tol=0.0001, verbose=0,\n",
       "                     warm_start=False)})"
      ]
     },
     "execution_count": 62,
     "metadata": {},
     "output_type": "execute_result"
    }
   ],
   "source": [
    "refit = 'f1'\n",
    "\n",
    "clfs_list = [\n",
    "    LogisticRegression(random_state=RANDOM_STATE, solver='lbfgs'),\n",
    "    LinearSVC(random_state=RANDOM_STATE),\n",
    "    MultinomialNB(),\n",
    "    \n",
    "#     GradientBoostingClassifier(random_state=RANDOM_STATE),\n",
    "#     HistGradientBoostingClassifier(random_state=RANDOM_STATE),\n",
    "#     SVC(random_state=RANDOM_STATE)\n",
    "]\n",
    "\n",
    "multi_clfs_list = [\n",
    "    DummyClassifier(strategy='most_frequent', random_state=RANDOM_STATE),\n",
    "    RandomForestClassifier(random_state=RANDOM_STATE, n_jobs=-1),\n",
    "    ExtraTreesClassifier(random_state=RANDOM_STATE, n_jobs=-1),\n",
    "    \n",
    "#     KNeighborsClassifier(n_jobs=-1),\n",
    "]\n",
    "\n",
    "all_clfs_list = clfs_list #+ multi_clfs_list\n",
    "\n",
    "param_grid = [\n",
    "    {\n",
    "        'clf': [MultiOutputClassifier(DummyClassifier(), n_jobs=-1)],\n",
    "        'clf__estimator': all_clfs_list\n",
    "    },\n",
    "    {\n",
    "        'clf': [ClassifierChain(DummyClassifier(), order='random', random_state=RANDOM_STATE)],\n",
    "        'clf__base_estimator': all_clfs_list\n",
    "    },\n",
    "#     {\n",
    "#         'clf': multi_clfs_list\n",
    "#     },\n",
    "#     {\n",
    "#         'clf': [OneVsRestClassifier(DummyClassifier(), n_jobs=-1)],\n",
    "#         'clf__estimator': clfs_list\n",
    "#     },\n",
    "]\n",
    "\n",
    "cv = KFold(n_splits=3, shuffle=True, random_state=RANDOM_STATE)\n",
    "grid_search = GridSearchCV(pipe, param_grid, scoring=scoring, refit=refit,\n",
    "                                 cv=cv, verbose=2, n_jobs=-1)\n",
    "grid_search.fit(X_train, Y_train)\n",
    "grid_search.best_score_, grid_search.best_params_"
   ]
  },
  {
   "cell_type": "code",
   "execution_count": 63,
   "metadata": {},
   "outputs": [
    {
     "data": {
      "text/html": [
       "<div>\n",
       "<style scoped>\n",
       "    .dataframe tbody tr th:only-of-type {\n",
       "        vertical-align: middle;\n",
       "    }\n",
       "\n",
       "    .dataframe tbody tr th {\n",
       "        vertical-align: top;\n",
       "    }\n",
       "\n",
       "    .dataframe thead th {\n",
       "        text-align: right;\n",
       "    }\n",
       "</style>\n",
       "<table border=\"1\" class=\"dataframe\">\n",
       "  <thead>\n",
       "    <tr style=\"text-align: right;\">\n",
       "      <th></th>\n",
       "      <th>param_clf</th>\n",
       "      <th>estimator</th>\n",
       "      <th>mean_test_f1</th>\n",
       "      <th>rank_test_f1</th>\n",
       "      <th>mean_test_precision</th>\n",
       "      <th>mean_test_recall</th>\n",
       "      <th>mean_test_accuracy</th>\n",
       "      <th>mean_test_hamming_loss</th>\n",
       "      <th>mean_test_jaccard</th>\n",
       "    </tr>\n",
       "  </thead>\n",
       "  <tbody>\n",
       "    <tr>\n",
       "      <th>0</th>\n",
       "      <td>MultiOutputClassifier</td>\n",
       "      <td>LogisticRegression(C=1.0, class_weight=None, d...</td>\n",
       "      <td>0.508501</td>\n",
       "      <td>1</td>\n",
       "      <td>0.675008</td>\n",
       "      <td>0.473660</td>\n",
       "      <td>0.262779</td>\n",
       "      <td>0.053782</td>\n",
       "      <td>0.427899</td>\n",
       "    </tr>\n",
       "    <tr>\n",
       "      <th>1</th>\n",
       "      <td>MultiOutputClassifier</td>\n",
       "      <td>LinearSVC(C=1.0, class_weight=None, dual=True,...</td>\n",
       "      <td>0.503409</td>\n",
       "      <td>2</td>\n",
       "      <td>0.607803</td>\n",
       "      <td>0.499868</td>\n",
       "      <td>0.280087</td>\n",
       "      <td>0.052079</td>\n",
       "      <td>0.426478</td>\n",
       "    </tr>\n",
       "    <tr>\n",
       "      <th>4</th>\n",
       "      <td>ClassifierChain</td>\n",
       "      <td>LinearSVC(C=1.0, class_weight=None, dual=True,...</td>\n",
       "      <td>0.469989</td>\n",
       "      <td>3</td>\n",
       "      <td>0.608232</td>\n",
       "      <td>0.455795</td>\n",
       "      <td>0.333635</td>\n",
       "      <td>0.054264</td>\n",
       "      <td>0.403153</td>\n",
       "    </tr>\n",
       "    <tr>\n",
       "      <th>2</th>\n",
       "      <td>MultiOutputClassifier</td>\n",
       "      <td>MultinomialNB(alpha=1.0, class_prior=None, fit...</td>\n",
       "      <td>0.464628</td>\n",
       "      <td>4</td>\n",
       "      <td>0.721637</td>\n",
       "      <td>0.402563</td>\n",
       "      <td>0.158878</td>\n",
       "      <td>0.066771</td>\n",
       "      <td>0.373341</td>\n",
       "    </tr>\n",
       "    <tr>\n",
       "      <th>3</th>\n",
       "      <td>ClassifierChain</td>\n",
       "      <td>LogisticRegression(C=1.0, class_weight=None, d...</td>\n",
       "      <td>0.450448</td>\n",
       "      <td>5</td>\n",
       "      <td>0.686314</td>\n",
       "      <td>0.401400</td>\n",
       "      <td>0.315468</td>\n",
       "      <td>0.059616</td>\n",
       "      <td>0.380389</td>\n",
       "    </tr>\n",
       "    <tr>\n",
       "      <th>5</th>\n",
       "      <td>ClassifierChain</td>\n",
       "      <td>MultinomialNB(alpha=1.0, class_prior=None, fit...</td>\n",
       "      <td>0.439146</td>\n",
       "      <td>6</td>\n",
       "      <td>0.744601</td>\n",
       "      <td>0.367157</td>\n",
       "      <td>0.198789</td>\n",
       "      <td>0.069404</td>\n",
       "      <td>0.356840</td>\n",
       "    </tr>\n",
       "  </tbody>\n",
       "</table>\n",
       "</div>"
      ],
      "text/plain": [
       "               param_clf                                          estimator  \\\n",
       "0  MultiOutputClassifier  LogisticRegression(C=1.0, class_weight=None, d...   \n",
       "1  MultiOutputClassifier  LinearSVC(C=1.0, class_weight=None, dual=True,...   \n",
       "4        ClassifierChain  LinearSVC(C=1.0, class_weight=None, dual=True,...   \n",
       "2  MultiOutputClassifier  MultinomialNB(alpha=1.0, class_prior=None, fit...   \n",
       "3        ClassifierChain  LogisticRegression(C=1.0, class_weight=None, d...   \n",
       "5        ClassifierChain  MultinomialNB(alpha=1.0, class_prior=None, fit...   \n",
       "\n",
       "   mean_test_f1  rank_test_f1  mean_test_precision  mean_test_recall  \\\n",
       "0      0.508501             1             0.675008          0.473660   \n",
       "1      0.503409             2             0.607803          0.499868   \n",
       "4      0.469989             3             0.608232          0.455795   \n",
       "2      0.464628             4             0.721637          0.402563   \n",
       "3      0.450448             5             0.686314          0.401400   \n",
       "5      0.439146             6             0.744601          0.367157   \n",
       "\n",
       "   mean_test_accuracy  mean_test_hamming_loss  mean_test_jaccard  \n",
       "0            0.262779                0.053782           0.427899  \n",
       "1            0.280087                0.052079           0.426478  \n",
       "4            0.333635                0.054264           0.403153  \n",
       "2            0.158878                0.066771           0.373341  \n",
       "3            0.315468                0.059616           0.380389  \n",
       "5            0.198789                0.069404           0.356840  "
      ]
     },
     "execution_count": 63,
     "metadata": {},
     "output_type": "execute_result"
    }
   ],
   "source": [
    "cv_results_df = pd.DataFrame(grid_search.cv_results_)\n",
    "cv_results_df = cv_results_df.filter(regex=f'param_clf|mean_test|rank_test_{refit}')\n",
    "cv_results_df['param_clf'] = cv_results_df['param_clf'].astype('str').str.split('(').str[0]\n",
    "cv_results_df = cv_results_df.sort_values(f'rank_test_{refit}')\n",
    "\n",
    "if (cv_results_df.filter(like='estimator').shape[1] == 2):\n",
    "    cv_results_df.insert(1, 'estimator', np.where(cv_results_df['param_clf__estimator'].notnull(),\n",
    "                                                  cv_results_df['param_clf__estimator'],\n",
    "                                                  cv_results_df['param_clf__base_estimator']))\n",
    "    cv_results_df = cv_results_df.drop(['param_clf__estimator', 'param_clf__base_estimator'], axis=1)\n",
    "    \n",
    "cv_results_df"
   ]
  },
  {
   "cell_type": "markdown",
   "metadata": {},
   "source": [
    "## Model Tuning"
   ]
  },
  {
   "cell_type": "code",
   "execution_count": 179,
   "metadata": {},
   "outputs": [
    {
     "name": "stdout",
     "output_type": "stream",
     "text": [
      "Fitting 3 folds for each of 1 candidates, totalling 3 fits\n"
     ]
    },
    {
     "name": "stderr",
     "output_type": "stream",
     "text": [
      "[Parallel(n_jobs=-1)]: Using backend LokyBackend with 8 concurrent workers.\n",
      "[Parallel(n_jobs=-1)]: Done   3 out of   3 | elapsed:    7.4s finished\n"
     ]
    },
    {
     "data": {
      "text/plain": [
       "0.5143556658503986"
      ]
     },
     "execution_count": 179,
     "metadata": {},
     "output_type": "execute_result"
    }
   ],
   "source": [
    "refit = 'f1'\n",
    "\n",
    "text_col = 'message'\n",
    "text_pipe = Pipeline([\n",
    "    ('tfidf', TfidfVectorizer())\n",
    "])\n",
    "\n",
    "preproc_pipe = ColumnTransformer([\n",
    "    ('text', text_pipe, text_col),\n",
    "], n_jobs=-1)\n",
    "\n",
    "pipe = Pipeline([\n",
    "    ('preprocess', preproc_pipe),\n",
    "    ('clf', MultiOutputClassifier(LogisticRegression(), n_jobs=-1))\n",
    "])\n",
    "\n",
    "param_grid = {\n",
    "#     'clf__estimator': [LogisticRegression(random_state=RANDOM_STATE)],\n",
    "#     'clf__estimator__C': [1], #np.logspace(-2, 2, 5),\n",
    "#     'clf__estimator__class_weight': [None], #[None, 'balanced'],\n",
    "    \n",
    "    'clf__estimator': [LinearSVC(random_state=RANDOM_STATE)],\n",
    "    'clf__estimator__C': [0.1], #np.logspace(-2, 2, 5),\n",
    "    'clf__estimator__loss': ['squared_hinge'], #['hinge', 'squared_hinge'], \n",
    "    'clf__estimator__multi_class': ['crammer_singer'], #['ovr', 'crammer_singer'],   \n",
    "    'clf__estimator__class_weight': [None], #[None, 'balanced'],\n",
    "    \n",
    "    'preprocess__text__tfidf__analyzer': ['word'], #['word', 'char', 'char_wb'],\n",
    "    'preprocess__text__tfidf__ngram_range': [(1, 1)], #[(1, 1), (1, 2), (2, 2)],\n",
    "    'preprocess__text__tfidf__max_features': [None], #[10000, 20000, None]\n",
    "    'preprocess__text__tfidf__token_pattern': ['(?u)\\\\b\\\\w+\\\\b'], #['(?u)\\\\b\\\\w+\\\\b', '(?u)\\\\b\\\\w\\\\w+\\\\b', '(?u)\\\\b\\\\w\\\\w\\\\w+\\\\b']\n",
    "    'preprocess__text__tfidf__stop_words': [None], #[None, stopwords.words('english'), stopwords.words()],\n",
    "    'preprocess__text__tfidf__min_df': [1], #[1, 2, 3],\n",
    "    'preprocess__text__tfidf__max_df': [0.7],\n",
    "    'preprocess__text__tfidf__lowercase': [True], #[False, True],\n",
    "    'preprocess__text__tfidf__binary': [False], #[False, True],\n",
    "    'preprocess__text__tfidf__use_idf': [True], #[False, True],\n",
    "    'preprocess__text__tfidf__smooth_idf': [True], #[False, True],\n",
    "    'preprocess__text__tfidf__sublinear_tf': [True], #[False, True],\n",
    "}\n",
    "\n",
    "cv = KFold(n_splits=3, shuffle=True, random_state=RANDOM_STATE)\n",
    "grid_search = GridSearchCV(pipe, param_grid, scoring=scoring, refit=refit,\n",
    "                                 cv=cv, verbose=2, n_jobs=-1)\n",
    "grid_search.fit(X_train, Y_train)\n",
    "grid_search.best_score_"
   ]
  },
  {
   "cell_type": "code",
   "execution_count": 180,
   "metadata": {},
   "outputs": [
    {
     "data": {
      "text/html": [
       "<div>\n",
       "<style scoped>\n",
       "    .dataframe tbody tr th:only-of-type {\n",
       "        vertical-align: middle;\n",
       "    }\n",
       "\n",
       "    .dataframe tbody tr th {\n",
       "        vertical-align: top;\n",
       "    }\n",
       "\n",
       "    .dataframe thead th {\n",
       "        text-align: right;\n",
       "    }\n",
       "</style>\n",
       "<table border=\"1\" class=\"dataframe\">\n",
       "  <thead>\n",
       "    <tr style=\"text-align: right;\">\n",
       "      <th></th>\n",
       "      <th>0</th>\n",
       "    </tr>\n",
       "  </thead>\n",
       "  <tbody>\n",
       "    <tr>\n",
       "      <th>mean_fit_time</th>\n",
       "      <td>5.59559</td>\n",
       "    </tr>\n",
       "    <tr>\n",
       "      <th>mean_score_time</th>\n",
       "      <td>0.491979</td>\n",
       "    </tr>\n",
       "    <tr>\n",
       "      <th>param_clf__estimator</th>\n",
       "      <td>LinearSVC(C=0.1, class_weight=None, dual=True,...</td>\n",
       "    </tr>\n",
       "    <tr>\n",
       "      <th>param_clf__estimator__C</th>\n",
       "      <td>0.1</td>\n",
       "    </tr>\n",
       "    <tr>\n",
       "      <th>param_clf__estimator__class_weight</th>\n",
       "      <td>None</td>\n",
       "    </tr>\n",
       "    <tr>\n",
       "      <th>param_clf__estimator__loss</th>\n",
       "      <td>squared_hinge</td>\n",
       "    </tr>\n",
       "    <tr>\n",
       "      <th>param_clf__estimator__multi_class</th>\n",
       "      <td>crammer_singer</td>\n",
       "    </tr>\n",
       "    <tr>\n",
       "      <th>param_preprocess__text__tfidf__analyzer</th>\n",
       "      <td>word</td>\n",
       "    </tr>\n",
       "    <tr>\n",
       "      <th>param_preprocess__text__tfidf__binary</th>\n",
       "      <td>False</td>\n",
       "    </tr>\n",
       "    <tr>\n",
       "      <th>param_preprocess__text__tfidf__lowercase</th>\n",
       "      <td>True</td>\n",
       "    </tr>\n",
       "    <tr>\n",
       "      <th>param_preprocess__text__tfidf__max_df</th>\n",
       "      <td>0.7</td>\n",
       "    </tr>\n",
       "    <tr>\n",
       "      <th>param_preprocess__text__tfidf__max_features</th>\n",
       "      <td>None</td>\n",
       "    </tr>\n",
       "    <tr>\n",
       "      <th>param_preprocess__text__tfidf__min_df</th>\n",
       "      <td>1</td>\n",
       "    </tr>\n",
       "    <tr>\n",
       "      <th>param_preprocess__text__tfidf__ngram_range</th>\n",
       "      <td>(1, 1)</td>\n",
       "    </tr>\n",
       "    <tr>\n",
       "      <th>param_preprocess__text__tfidf__smooth_idf</th>\n",
       "      <td>True</td>\n",
       "    </tr>\n",
       "    <tr>\n",
       "      <th>param_preprocess__text__tfidf__stop_words</th>\n",
       "      <td>None</td>\n",
       "    </tr>\n",
       "    <tr>\n",
       "      <th>param_preprocess__text__tfidf__sublinear_tf</th>\n",
       "      <td>True</td>\n",
       "    </tr>\n",
       "    <tr>\n",
       "      <th>param_preprocess__text__tfidf__token_pattern</th>\n",
       "      <td>(?u)\\b\\w+\\b</td>\n",
       "    </tr>\n",
       "    <tr>\n",
       "      <th>param_preprocess__text__tfidf__use_idf</th>\n",
       "      <td>True</td>\n",
       "    </tr>\n",
       "    <tr>\n",
       "      <th>mean_test_f1</th>\n",
       "      <td>0.514356</td>\n",
       "    </tr>\n",
       "    <tr>\n",
       "      <th>std_test_f1</th>\n",
       "      <td>0.002486</td>\n",
       "    </tr>\n",
       "    <tr>\n",
       "      <th>rank_test_f1</th>\n",
       "      <td>1</td>\n",
       "    </tr>\n",
       "    <tr>\n",
       "      <th>mean_test_precision</th>\n",
       "      <td>0.702427</td>\n",
       "    </tr>\n",
       "    <tr>\n",
       "      <th>mean_test_recall</th>\n",
       "      <td>0.470412</td>\n",
       "    </tr>\n",
       "    <tr>\n",
       "      <th>mean_test_accuracy</th>\n",
       "      <td>0.242132</td>\n",
       "    </tr>\n",
       "    <tr>\n",
       "      <th>mean_test_hamming_loss</th>\n",
       "      <td>0.0554195</td>\n",
       "    </tr>\n",
       "    <tr>\n",
       "      <th>mean_test_jaccard</th>\n",
       "      <td>0.434228</td>\n",
       "    </tr>\n",
       "  </tbody>\n",
       "</table>\n",
       "</div>"
      ],
      "text/plain": [
       "                                                                                              0\n",
       "mean_fit_time                                                                           5.59559\n",
       "mean_score_time                                                                        0.491979\n",
       "param_clf__estimator                          LinearSVC(C=0.1, class_weight=None, dual=True,...\n",
       "param_clf__estimator__C                                                                     0.1\n",
       "param_clf__estimator__class_weight                                                         None\n",
       "param_clf__estimator__loss                                                        squared_hinge\n",
       "param_clf__estimator__multi_class                                                crammer_singer\n",
       "param_preprocess__text__tfidf__analyzer                                                    word\n",
       "param_preprocess__text__tfidf__binary                                                     False\n",
       "param_preprocess__text__tfidf__lowercase                                                   True\n",
       "param_preprocess__text__tfidf__max_df                                                       0.7\n",
       "param_preprocess__text__tfidf__max_features                                                None\n",
       "param_preprocess__text__tfidf__min_df                                                         1\n",
       "param_preprocess__text__tfidf__ngram_range                                               (1, 1)\n",
       "param_preprocess__text__tfidf__smooth_idf                                                  True\n",
       "param_preprocess__text__tfidf__stop_words                                                  None\n",
       "param_preprocess__text__tfidf__sublinear_tf                                                True\n",
       "param_preprocess__text__tfidf__token_pattern                                        (?u)\\b\\w+\\b\n",
       "param_preprocess__text__tfidf__use_idf                                                     True\n",
       "mean_test_f1                                                                           0.514356\n",
       "std_test_f1                                                                            0.002486\n",
       "rank_test_f1                                                                                  1\n",
       "mean_test_precision                                                                    0.702427\n",
       "mean_test_recall                                                                       0.470412\n",
       "mean_test_accuracy                                                                     0.242132\n",
       "mean_test_hamming_loss                                                                0.0554195\n",
       "mean_test_jaccard                                                                      0.434228"
      ]
     },
     "execution_count": 180,
     "metadata": {},
     "output_type": "execute_result"
    }
   ],
   "source": [
    "cv_results_df = pd.DataFrame(grid_search.cv_results_)\n",
    "cv_results_df = cv_results_df.filter(regex=f'param_clf|preprocess|mean_test_|std_test_{refit}|rank_test_{refit}|mean_fit_time|mean_score_time')\n",
    "cv_results_df = cv_results_df.sort_values(f'rank_test_{refit}')\n",
    "    \n",
    "cv_results_df.T"
   ]
  },
  {
   "cell_type": "code",
   "execution_count": 182,
   "metadata": {},
   "outputs": [
    {
     "name": "stdout",
     "output_type": "stream",
     "text": [
      "Fitting 3 folds for each of 2 candidates, totalling 6 fits\n"
     ]
    },
    {
     "name": "stderr",
     "output_type": "stream",
     "text": [
      "[Parallel(n_jobs=-1)]: Using backend LokyBackend with 8 concurrent workers.\n",
      "[Parallel(n_jobs=-1)]: Done   3 out of   6 | elapsed:    8.8s remaining:    8.8s\n",
      "[Parallel(n_jobs=-1)]: Done   6 out of   6 | elapsed:   15.1s finished\n"
     ]
    },
    {
     "data": {
      "text/plain": [
       "0.5143556658503986"
      ]
     },
     "execution_count": 182,
     "metadata": {},
     "output_type": "execute_result"
    }
   ],
   "source": [
    "preprocess_params = {\n",
    "    'preprocess__text__tfidf__analyzer': ['word'],\n",
    "    'preprocess__text__tfidf__ngram_range': [(1, 1)], \n",
    "    'preprocess__text__tfidf__max_features': [None], \n",
    "    'preprocess__text__tfidf__token_pattern': ['(?u)\\\\b\\\\w+\\\\b'], \n",
    "    'preprocess__text__tfidf__stop_words': [None],\n",
    "    'preprocess__text__tfidf__min_df': [1], \n",
    "    'preprocess__text__tfidf__max_df': [0.7],\n",
    "    'preprocess__text__tfidf__lowercase': [True], \n",
    "    'preprocess__text__tfidf__binary': [False], \n",
    "    'preprocess__text__tfidf__use_idf': [True], \n",
    "    'preprocess__text__tfidf__smooth_idf': [True], \n",
    "    'preprocess__text__tfidf__sublinear_tf': [True], \n",
    "}\n",
    "\n",
    "param_grid = [\n",
    "    {\n",
    "        'clf': [MultiOutputClassifier(LinearSVC(random_state=RANDOM_STATE), n_jobs=-1)],\n",
    "        'clf__estimator__C': [0.1], \n",
    "        'clf__estimator__loss': ['squared_hinge'], \n",
    "        'clf__estimator__multi_class': ['crammer_singer'], \n",
    "        'clf__estimator__class_weight': [None], \n",
    "        **preprocess_params\n",
    "    },\n",
    "    {\n",
    "        'clf': [ClassifierChain(LinearSVC(random_state=RANDOM_STATE), order='random', random_state=RANDOM_STATE)],\n",
    "        'clf__base_estimator__C': [0.1], \n",
    "        'clf__base_estimator__loss': ['squared_hinge'], \n",
    "        'clf__base_estimator__multi_class': ['crammer_singer'], \n",
    "        'clf__base_estimator__class_weight': [None], \n",
    "        **preprocess_params\n",
    "    }\n",
    "]\n",
    "    \n",
    "cv = KFold(n_splits=3, shuffle=True, random_state=RANDOM_STATE)\n",
    "grid_search = GridSearchCV(pipe, param_grid, scoring=scoring, refit=refit,\n",
    "                                 cv=cv, verbose=2, n_jobs=-1)\n",
    "grid_search.fit(X_train, Y_train)\n",
    "grid_search.best_score_"
   ]
  },
  {
   "cell_type": "code",
   "execution_count": 183,
   "metadata": {},
   "outputs": [
    {
     "data": {
      "text/html": [
       "<div>\n",
       "<style scoped>\n",
       "    .dataframe tbody tr th:only-of-type {\n",
       "        vertical-align: middle;\n",
       "    }\n",
       "\n",
       "    .dataframe tbody tr th {\n",
       "        vertical-align: top;\n",
       "    }\n",
       "\n",
       "    .dataframe thead th {\n",
       "        text-align: right;\n",
       "    }\n",
       "</style>\n",
       "<table border=\"1\" class=\"dataframe\">\n",
       "  <thead>\n",
       "    <tr style=\"text-align: right;\">\n",
       "      <th></th>\n",
       "      <th>0</th>\n",
       "      <th>1</th>\n",
       "    </tr>\n",
       "  </thead>\n",
       "  <tbody>\n",
       "    <tr>\n",
       "      <th>mean_fit_time</th>\n",
       "      <td>6.7308</td>\n",
       "      <td>12.5597</td>\n",
       "    </tr>\n",
       "    <tr>\n",
       "      <th>mean_score_time</th>\n",
       "      <td>0.608411</td>\n",
       "      <td>0.790639</td>\n",
       "    </tr>\n",
       "    <tr>\n",
       "      <th>param_clf</th>\n",
       "      <td>MultiOutputClassifier(estimator=LinearSVC(C=0....</td>\n",
       "      <td>ClassifierChain(base_estimator=LinearSVC(C=1.0...</td>\n",
       "    </tr>\n",
       "    <tr>\n",
       "      <th>param_clf__estimator__C</th>\n",
       "      <td>0.1</td>\n",
       "      <td>NaN</td>\n",
       "    </tr>\n",
       "    <tr>\n",
       "      <th>param_clf__estimator__class_weight</th>\n",
       "      <td>None</td>\n",
       "      <td>NaN</td>\n",
       "    </tr>\n",
       "    <tr>\n",
       "      <th>param_clf__estimator__loss</th>\n",
       "      <td>squared_hinge</td>\n",
       "      <td>NaN</td>\n",
       "    </tr>\n",
       "    <tr>\n",
       "      <th>param_clf__estimator__multi_class</th>\n",
       "      <td>crammer_singer</td>\n",
       "      <td>NaN</td>\n",
       "    </tr>\n",
       "    <tr>\n",
       "      <th>param_preprocess__text__tfidf__analyzer</th>\n",
       "      <td>word</td>\n",
       "      <td>word</td>\n",
       "    </tr>\n",
       "    <tr>\n",
       "      <th>param_preprocess__text__tfidf__binary</th>\n",
       "      <td>False</td>\n",
       "      <td>False</td>\n",
       "    </tr>\n",
       "    <tr>\n",
       "      <th>param_preprocess__text__tfidf__lowercase</th>\n",
       "      <td>True</td>\n",
       "      <td>True</td>\n",
       "    </tr>\n",
       "    <tr>\n",
       "      <th>param_preprocess__text__tfidf__max_df</th>\n",
       "      <td>0.7</td>\n",
       "      <td>0.7</td>\n",
       "    </tr>\n",
       "    <tr>\n",
       "      <th>param_preprocess__text__tfidf__max_features</th>\n",
       "      <td>None</td>\n",
       "      <td>None</td>\n",
       "    </tr>\n",
       "    <tr>\n",
       "      <th>param_preprocess__text__tfidf__min_df</th>\n",
       "      <td>1</td>\n",
       "      <td>1</td>\n",
       "    </tr>\n",
       "    <tr>\n",
       "      <th>param_preprocess__text__tfidf__ngram_range</th>\n",
       "      <td>(1, 1)</td>\n",
       "      <td>(1, 1)</td>\n",
       "    </tr>\n",
       "    <tr>\n",
       "      <th>param_preprocess__text__tfidf__smooth_idf</th>\n",
       "      <td>True</td>\n",
       "      <td>True</td>\n",
       "    </tr>\n",
       "    <tr>\n",
       "      <th>param_preprocess__text__tfidf__stop_words</th>\n",
       "      <td>None</td>\n",
       "      <td>None</td>\n",
       "    </tr>\n",
       "    <tr>\n",
       "      <th>param_preprocess__text__tfidf__sublinear_tf</th>\n",
       "      <td>True</td>\n",
       "      <td>True</td>\n",
       "    </tr>\n",
       "    <tr>\n",
       "      <th>param_preprocess__text__tfidf__token_pattern</th>\n",
       "      <td>(?u)\\b\\w+\\b</td>\n",
       "      <td>(?u)\\b\\w+\\b</td>\n",
       "    </tr>\n",
       "    <tr>\n",
       "      <th>param_preprocess__text__tfidf__use_idf</th>\n",
       "      <td>True</td>\n",
       "      <td>True</td>\n",
       "    </tr>\n",
       "    <tr>\n",
       "      <th>param_clf__base_estimator__C</th>\n",
       "      <td>NaN</td>\n",
       "      <td>0.1</td>\n",
       "    </tr>\n",
       "    <tr>\n",
       "      <th>param_clf__base_estimator__class_weight</th>\n",
       "      <td>NaN</td>\n",
       "      <td>None</td>\n",
       "    </tr>\n",
       "    <tr>\n",
       "      <th>param_clf__base_estimator__loss</th>\n",
       "      <td>NaN</td>\n",
       "      <td>squared_hinge</td>\n",
       "    </tr>\n",
       "    <tr>\n",
       "      <th>param_clf__base_estimator__multi_class</th>\n",
       "      <td>NaN</td>\n",
       "      <td>crammer_singer</td>\n",
       "    </tr>\n",
       "    <tr>\n",
       "      <th>mean_test_f1</th>\n",
       "      <td>0.514356</td>\n",
       "      <td>0.468772</td>\n",
       "    </tr>\n",
       "    <tr>\n",
       "      <th>std_test_f1</th>\n",
       "      <td>0.002486</td>\n",
       "      <td>0.000898995</td>\n",
       "    </tr>\n",
       "    <tr>\n",
       "      <th>rank_test_f1</th>\n",
       "      <td>1</td>\n",
       "      <td>2</td>\n",
       "    </tr>\n",
       "    <tr>\n",
       "      <th>mean_test_precision</th>\n",
       "      <td>0.702427</td>\n",
       "      <td>0.713753</td>\n",
       "    </tr>\n",
       "    <tr>\n",
       "      <th>mean_test_recall</th>\n",
       "      <td>0.470412</td>\n",
       "      <td>0.416949</td>\n",
       "    </tr>\n",
       "    <tr>\n",
       "      <th>mean_test_accuracy</th>\n",
       "      <td>0.242132</td>\n",
       "      <td>0.282853</td>\n",
       "    </tr>\n",
       "    <tr>\n",
       "      <th>mean_test_hamming_loss</th>\n",
       "      <td>0.0554195</td>\n",
       "      <td>0.0605597</td>\n",
       "    </tr>\n",
       "    <tr>\n",
       "      <th>mean_test_jaccard</th>\n",
       "      <td>0.434228</td>\n",
       "      <td>0.397066</td>\n",
       "    </tr>\n",
       "  </tbody>\n",
       "</table>\n",
       "</div>"
      ],
      "text/plain": [
       "                                                                                              0  \\\n",
       "mean_fit_time                                                                            6.7308   \n",
       "mean_score_time                                                                        0.608411   \n",
       "param_clf                                     MultiOutputClassifier(estimator=LinearSVC(C=0....   \n",
       "param_clf__estimator__C                                                                     0.1   \n",
       "param_clf__estimator__class_weight                                                         None   \n",
       "param_clf__estimator__loss                                                        squared_hinge   \n",
       "param_clf__estimator__multi_class                                                crammer_singer   \n",
       "param_preprocess__text__tfidf__analyzer                                                    word   \n",
       "param_preprocess__text__tfidf__binary                                                     False   \n",
       "param_preprocess__text__tfidf__lowercase                                                   True   \n",
       "param_preprocess__text__tfidf__max_df                                                       0.7   \n",
       "param_preprocess__text__tfidf__max_features                                                None   \n",
       "param_preprocess__text__tfidf__min_df                                                         1   \n",
       "param_preprocess__text__tfidf__ngram_range                                               (1, 1)   \n",
       "param_preprocess__text__tfidf__smooth_idf                                                  True   \n",
       "param_preprocess__text__tfidf__stop_words                                                  None   \n",
       "param_preprocess__text__tfidf__sublinear_tf                                                True   \n",
       "param_preprocess__text__tfidf__token_pattern                                        (?u)\\b\\w+\\b   \n",
       "param_preprocess__text__tfidf__use_idf                                                     True   \n",
       "param_clf__base_estimator__C                                                                NaN   \n",
       "param_clf__base_estimator__class_weight                                                     NaN   \n",
       "param_clf__base_estimator__loss                                                             NaN   \n",
       "param_clf__base_estimator__multi_class                                                      NaN   \n",
       "mean_test_f1                                                                           0.514356   \n",
       "std_test_f1                                                                            0.002486   \n",
       "rank_test_f1                                                                                  1   \n",
       "mean_test_precision                                                                    0.702427   \n",
       "mean_test_recall                                                                       0.470412   \n",
       "mean_test_accuracy                                                                     0.242132   \n",
       "mean_test_hamming_loss                                                                0.0554195   \n",
       "mean_test_jaccard                                                                      0.434228   \n",
       "\n",
       "                                                                                              1  \n",
       "mean_fit_time                                                                           12.5597  \n",
       "mean_score_time                                                                        0.790639  \n",
       "param_clf                                     ClassifierChain(base_estimator=LinearSVC(C=1.0...  \n",
       "param_clf__estimator__C                                                                     NaN  \n",
       "param_clf__estimator__class_weight                                                          NaN  \n",
       "param_clf__estimator__loss                                                                  NaN  \n",
       "param_clf__estimator__multi_class                                                           NaN  \n",
       "param_preprocess__text__tfidf__analyzer                                                    word  \n",
       "param_preprocess__text__tfidf__binary                                                     False  \n",
       "param_preprocess__text__tfidf__lowercase                                                   True  \n",
       "param_preprocess__text__tfidf__max_df                                                       0.7  \n",
       "param_preprocess__text__tfidf__max_features                                                None  \n",
       "param_preprocess__text__tfidf__min_df                                                         1  \n",
       "param_preprocess__text__tfidf__ngram_range                                               (1, 1)  \n",
       "param_preprocess__text__tfidf__smooth_idf                                                  True  \n",
       "param_preprocess__text__tfidf__stop_words                                                  None  \n",
       "param_preprocess__text__tfidf__sublinear_tf                                                True  \n",
       "param_preprocess__text__tfidf__token_pattern                                        (?u)\\b\\w+\\b  \n",
       "param_preprocess__text__tfidf__use_idf                                                     True  \n",
       "param_clf__base_estimator__C                                                                0.1  \n",
       "param_clf__base_estimator__class_weight                                                    None  \n",
       "param_clf__base_estimator__loss                                                   squared_hinge  \n",
       "param_clf__base_estimator__multi_class                                           crammer_singer  \n",
       "mean_test_f1                                                                           0.468772  \n",
       "std_test_f1                                                                         0.000898995  \n",
       "rank_test_f1                                                                                  2  \n",
       "mean_test_precision                                                                    0.713753  \n",
       "mean_test_recall                                                                       0.416949  \n",
       "mean_test_accuracy                                                                     0.282853  \n",
       "mean_test_hamming_loss                                                                0.0605597  \n",
       "mean_test_jaccard                                                                      0.397066  "
      ]
     },
     "execution_count": 183,
     "metadata": {},
     "output_type": "execute_result"
    }
   ],
   "source": [
    "cv_results_df = pd.DataFrame(grid_search.cv_results_)\n",
    "cv_results_df = cv_results_df.filter(regex=f'param_clf|preprocess|mean_test_|std_test_{refit}|rank_test_{refit}|mean_fit_time|mean_score_time')\n",
    "cv_results_df = cv_results_df.sort_values(f'rank_test_{refit}')\n",
    "    \n",
    "cv_results_df.T"
   ]
  },
  {
   "cell_type": "code",
   "execution_count": null,
   "metadata": {},
   "outputs": [],
   "source": []
  }
 ],
 "metadata": {
  "kernelspec": {
   "display_name": "Python 3.6 ML",
   "language": "python",
   "name": "dlwp"
  },
  "language_info": {
   "codemirror_mode": {
    "name": "ipython",
    "version": 3
   },
   "file_extension": ".py",
   "mimetype": "text/x-python",
   "name": "python",
   "nbconvert_exporter": "python",
   "pygments_lexer": "ipython3",
   "version": "3.6.7"
  }
 },
 "nbformat": 4,
 "nbformat_minor": 4
}
